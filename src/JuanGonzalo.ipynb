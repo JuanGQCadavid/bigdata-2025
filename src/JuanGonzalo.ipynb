{
 "cells": [
  {
   "cell_type": "code",
   "execution_count": 15,
   "id": "3f625297-964f-4bb2-a8dc-e0efa71d30b0",
   "metadata": {},
   "outputs": [],
   "source": [
    "from pyspark.sql import SparkSession\n",
    "\n",
    "spark = SparkSession.builder \\\n",
    "    .master('local') \\\n",
    "    .appName('thailand') \\\n",
    "    .getOrCreate()"
   ]
  },
  {
   "cell_type": "code",
   "execution_count": 29,
   "id": "6356b8c5-f096-454a-81d3-2da2b9427e1b",
   "metadata": {},
   "outputs": [],
   "source": [
    "df = spark.read.parquet(\"archive/thailand_domestic_tourism_2019_2023_ver2.parquet\")"
   ]
  },
  {
   "cell_type": "code",
   "execution_count": 30,
   "id": "3c9b957f-76c8-40a0-bff7-ea1a185ebb1b",
   "metadata": {},
   "outputs": [
    {
     "name": "stdout",
     "output_type": "stream",
     "text": [
      "+-------------------+---------------+--------------------+-----------+----------+------------------+-----+\n",
      "|               date|  province_thai|        province_eng|region_thai|region_eng|          variable|value|\n",
      "+-------------------+---------------+--------------------+-----------+----------+------------------+-----+\n",
      "|2019-01-01 00:00:00|  กรุงเทพมหานคร|             Bangkok|    ภาคกลาง|   central|ratio_tourist_stay|93.37|\n",
      "|2019-01-01 00:00:00|         ลพบุรี|            Lopburi |    ภาคกลาง|   central|ratio_tourist_stay|61.32|\n",
      "|2019-01-01 00:00:00|พระนครศรีอยุธยา|Phra Nakhon Si Ay...|    ภาคกลาง|   central|ratio_tourist_stay|73.37|\n",
      "|2019-01-01 00:00:00|        สระบุรี|           Saraburi |    ภาคกลาง|   central|ratio_tourist_stay|67.33|\n",
      "|2019-01-01 00:00:00|         ชัยนาท|            Chainat |    ภาคกลาง|   central|ratio_tourist_stay|79.31|\n",
      "|2019-01-01 00:00:00|         นครปฐม|      Nakhon Pathom |    ภาคกลาง|   central|ratio_tourist_stay| 71.7|\n",
      "|2019-01-01 00:00:00|      สิงห์บุรี|          Sing Buri |    ภาคกลาง|   central|ratio_tourist_stay|64.65|\n",
      "|2019-01-01 00:00:00|        อ่างทอง|          Ang Thong |    ภาคกลาง|   central|ratio_tourist_stay|71.21|\n",
      "|2019-01-01 00:00:00|        นนทบุรี|         Nonthaburi |    ภาคกลาง|   central|ratio_tourist_stay|75.07|\n",
      "|2019-01-01 00:00:00|       ปทุมธานี|       Pathum Thani |    ภาคกลาง|   central|ratio_tourist_stay|60.77|\n",
      "|2019-01-01 00:00:00|    สมุทรปราการ|       Samut Prakan |    ภาคกลาง|   central|ratio_tourist_stay| 72.5|\n",
      "|2019-01-01 00:00:00|      สมุทรสาคร|       Samut Sakhon |    ภาคกลาง|   central|ratio_tourist_stay|61.64|\n",
      "|2019-01-01 00:00:00|     ฉะเชิงเทรา|       Chachoengsao |ภาคตะวันออก|      east|ratio_tourist_stay| 59.4|\n",
      "|2019-01-01 00:00:00|        ราชบุรี|         Ratchaburi |    ภาคกลาง|   central|ratio_tourist_stay|75.09|\n",
      "|2019-01-01 00:00:00|      กาญจนบุรี|       Kanchanaburi |    ภาคกลาง|   central|ratio_tourist_stay| 83.8|\n",
      "|2019-01-01 00:00:00|    สมุทรสงคราม|    Samut Songkhram |    ภาคกลาง|   central|ratio_tourist_stay| 75.6|\n",
      "|2019-01-01 00:00:00|     สุพรรณบุรี|        Suphan Buri |    ภาคกลาง|   central|ratio_tourist_stay|89.43|\n",
      "|2019-01-01 00:00:00|       เพชรบุรี|        Phetchaburi |    ภาคกลาง|   central|ratio_tourist_stay| 81.2|\n",
      "|2019-01-01 00:00:00|ประจวบคีรีขันธ์|Prachuap Khiri Khan |    ภาคกลาง|   central|ratio_tourist_stay|64.55|\n",
      "|2019-01-01 00:00:00|         ชลบุรี|           Chonburi |ภาคตะวันออก|      east|ratio_tourist_stay|84.33|\n",
      "+-------------------+---------------+--------------------+-----------+----------+------------------+-----+\n",
      "only showing top 20 rows\n",
      "\n"
     ]
    }
   ],
   "source": [
    "df.show()"
   ]
  },
  {
   "cell_type": "code",
   "execution_count": 31,
   "id": "52fba154-bddd-422d-af43-5188912f018d",
   "metadata": {},
   "outputs": [
    {
     "data": {
      "text/plain": [
       "[('date', 'timestamp_ntz'),\n",
       " ('province_thai', 'string'),\n",
       " ('province_eng', 'string'),\n",
       " ('region_thai', 'string'),\n",
       " ('region_eng', 'string'),\n",
       " ('variable', 'string'),\n",
       " ('value', 'double')]"
      ]
     },
     "execution_count": 31,
     "metadata": {},
     "output_type": "execute_result"
    }
   ],
   "source": [
    "df.dtypes"
   ]
  },
  {
   "cell_type": "code",
   "execution_count": 43,
   "id": "03509ab7-a20c-4ad1-a6b5-0be70c423f0b",
   "metadata": {},
   "outputs": [],
   "source": [
    "df_no_tourist_all = (df\n",
    "                     .filter(\"variable='no_tourist_all'\")\n",
    "                     .select(\n",
    "                         \"date\",\n",
    "                         \"province_eng\",\n",
    "                         \"value\",\n",
    "                     )\n",
    "                     .withColumnRenamed(\"value\", \"no_tourist_all\")\n",
    "                    )\n",
    "\n",
    "df_revenue_all = (df\n",
    "                  .filter(\"variable='revenue_all'\")\n",
    "                  .select(\n",
    "                      \"date\",\n",
    "                      \"province_eng\",\n",
    "                      \"value\",\n",
    "                  )\n",
    "                  .withColumnRenamed(\"value\", \"revenue_all\")           \n",
    "                )\n",
    "df_revenue_foreign = (df\n",
    "                     .filter(\"variable='revenue_foreign'\")\n",
    "                     .select(\n",
    "                         \"date\",\n",
    "                         \"province_eng\",\n",
    "                         \"value\",\n",
    "                     )\n",
    "                      .withColumnRenamed(\"value\", \"revenue_foreign\")\n",
    "                     )\n",
    "df_no_tourist_foreign = (df\n",
    "                         .filter(\"variable='no_tourist_foreign'\")\n",
    "                         .select(\n",
    "                            \"date\",\n",
    "                            \"province_eng\",\n",
    "                            \"value\",\n",
    "                         )\n",
    "                         .withColumnRenamed(\"value\",\"no_tourist_foreign\")\n",
    "    \n",
    ")"
   ]
  },
  {
   "cell_type": "code",
   "execution_count": 44,
   "id": "e35e6ad0-7a6f-4e32-a44b-61866b43b8e0",
   "metadata": {},
   "outputs": [
    {
     "name": "stdout",
     "output_type": "stream",
     "text": [
      "+-------------------+--------------------+---------------+\n",
      "|               date|        province_eng|revenue_foreign|\n",
      "+-------------------+--------------------+---------------+\n",
      "|2019-01-01 00:00:00|             Bangkok|    5.218391E10|\n",
      "|2019-01-01 00:00:00|            Lopburi |      5410000.0|\n",
      "|2019-01-01 00:00:00|Phra Nakhon Si Ay...|       3.8448E8|\n",
      "|2019-01-01 00:00:00|           Saraburi |         1.16E7|\n",
      "|2019-01-01 00:00:00|            Chainat |       890000.0|\n",
      "|2019-01-01 00:00:00|      Nakhon Pathom |        1.686E7|\n",
      "|2019-01-01 00:00:00|          Sing Buri |       390000.0|\n",
      "|2019-01-01 00:00:00|          Ang Thong |      5750000.0|\n",
      "|2019-01-01 00:00:00|         Nonthaburi |       1.0509E8|\n",
      "|2019-01-01 00:00:00|       Pathum Thani |       1.0378E8|\n",
      "|2019-01-01 00:00:00|       Samut Prakan |       4.8786E8|\n",
      "|2019-01-01 00:00:00|       Samut Sakhon |       730000.0|\n",
      "|2019-01-01 00:00:00|       Chachoengsao |      4780000.0|\n",
      "|2019-01-01 00:00:00|         Ratchaburi |        1.083E7|\n",
      "|2019-01-01 00:00:00|       Kanchanaburi |       2.5696E8|\n",
      "|2019-01-01 00:00:00|    Samut Songkhram |      7340000.0|\n",
      "|2019-01-01 00:00:00|        Suphan Buri |      2710000.0|\n",
      "|2019-01-01 00:00:00|        Phetchaburi |       5.7599E8|\n",
      "|2019-01-01 00:00:00|Prachuap Khiri Khan |      1.23826E9|\n",
      "|2019-01-01 00:00:00|           Chonburi |    2.392901E10|\n",
      "+-------------------+--------------------+---------------+\n",
      "only showing top 20 rows\n",
      "\n"
     ]
    }
   ],
   "source": [
    "df_revenue_foreign.show()"
   ]
  },
  {
   "cell_type": "code",
   "execution_count": 45,
   "id": "01519239-bd4f-4949-b188-bf7aa609fe86",
   "metadata": {},
   "outputs": [],
   "source": [
    "df_final = (df_no_tourist_all\n",
    "            .join(df_revenue_all, on=[\"date\", \"province_eng\"])\n",
    "            .join(df_revenue_foreign, on=[\"date\", \"province_eng\"])\n",
    "            .join(df_no_tourist_foreign, on=[\"date\", \"province_eng\"])\n",
    "            .selectExpr(\n",
    "                \"date\",\n",
    "                \"province_eng\",\n",
    "                \"no_tourist_foreign / no_tourist_all as no_percentage_of_foreign_tourists\",\n",
    "                \"revenue_foreign / revenue_all as revenue_percentage_of_foreign_tourists\",\n",
    "            )\n",
    "           )"
   ]
  },
  {
   "cell_type": "code",
   "execution_count": 47,
   "id": "18596feb-a408-44f3-a233-5b8018a55d78",
   "metadata": {},
   "outputs": [
    {
     "name": "stdout",
     "output_type": "stream",
     "text": [
      "+-------------------+--------------------+---------------------------------+--------------------------------------+\n",
      "|               date|        province_eng|no_percentage_of_foreign_tourists|revenue_percentage_of_foreign_tourists|\n",
      "+-------------------+--------------------+---------------------------------+--------------------------------------+\n",
      "|2019-01-01 00:00:00|             Bangkok|              0.40694470198814414|                    0.6369601578195282|\n",
      "|2019-01-01 00:00:00|            Lopburi |             0.008795372658785695|                   0.01183186072959496|\n",
      "|2019-01-01 00:00:00|Phra Nakhon Si Ay...|              0.23109584858330973|                     0.267235687029533|\n",
      "|2019-01-01 00:00:00|           Saraburi |              0.02816113030554537|                   0.03335346042151873|\n",
      "|2019-01-01 00:00:00|            Chainat |             0.007069416867957457|                  0.008743491502112191|\n",
      "|2019-01-01 00:00:00|      Nakhon Pathom |             0.039509366546552425|                   0.04132555517427325|\n",
      "|2019-01-01 00:00:00|          Sing Buri |             0.005016384157935...|                   0.00560264329837667|\n",
      "|2019-01-01 00:00:00|          Ang Thong |             0.050731529246760235|                   0.04353751798288786|\n",
      "|2019-01-01 00:00:00|         Nonthaburi |                0.093825779925058|                   0.19925296727465777|\n",
      "|2019-01-01 00:00:00|       Pathum Thani |                0.260948584410296|                    0.3370355936606911|\n",
      "|2019-01-01 00:00:00|       Samut Prakan |               0.5122402435323943|                    0.6127431894397066|\n",
      "|2019-01-01 00:00:00|       Samut Sakhon |             0.003853441095439027|                  0.004437959754392...|\n",
      "|2019-01-01 00:00:00|       Chachoengsao |             0.013796138116684785|                   0.01631622064445658|\n",
      "|2019-01-01 00:00:00|         Ratchaburi |             0.019256470986296736|                   0.02406613186373636|\n",
      "|2019-01-01 00:00:00|       Kanchanaburi |              0.06004906355550066|                    0.0953416321911582|\n",
      "|2019-01-01 00:00:00|    Samut Songkhram |             0.018830142105863167|                  0.021279679935059286|\n",
      "|2019-01-01 00:00:00|        Suphan Buri |             0.007407376017560736|                  0.005557720309263551|\n",
      "|2019-01-01 00:00:00|        Phetchaburi |              0.09851416753307532|                   0.24483645406048757|\n",
      "|2019-01-01 00:00:00|Prachuap Khiri Khan |              0.20025287457045748|                    0.3297542009533701|\n",
      "|2019-01-01 00:00:00|           Chonburi |               0.5969527365956263|                    0.8577797533377903|\n",
      "+-------------------+--------------------+---------------------------------+--------------------------------------+\n",
      "only showing top 20 rows\n",
      "\n"
     ]
    }
   ],
   "source": [
    "df_final.show()"
   ]
  },
  {
   "cell_type": "code",
   "execution_count": 49,
   "id": "cbcac2e6-91a8-4761-8dd6-4dbab3e1847d",
   "metadata": {},
   "outputs": [],
   "source": [
    "df_final.write.csv(\"chal4\")"
   ]
  },
  {
   "cell_type": "code",
   "execution_count": null,
   "id": "c5ccfee1-9cf1-461b-a9ab-bd71debd467a",
   "metadata": {},
   "outputs": [],
   "source": []
  }
 ],
 "metadata": {
  "kernelspec": {
   "display_name": "Python 3 (ipykernel)",
   "language": "python",
   "name": "python3"
  },
  "language_info": {
   "codemirror_mode": {
    "name": "ipython",
    "version": 3
   },
   "file_extension": ".py",
   "mimetype": "text/x-python",
   "name": "python",
   "nbconvert_exporter": "python",
   "pygments_lexer": "ipython3",
   "version": "3.11.10"
  }
 },
 "nbformat": 4,
 "nbformat_minor": 5
}
