{
 "cells": [
  {
   "cell_type": "markdown",
   "metadata": {},
   "source": [
    "## PROJECT 1 - NYC Taxi Data Analysis\n",
    "\n",
    "This notebook demonstrates how to analyze a sample of NYC Taxi trip data using PySpark and Shapely.  \n",
    "We will:\n",
    "\n",
    "1. Load the CSV data\n",
    "2. Filter out outliers (invalid or overly long trips)  \n",
    "3. Enrich the data with borough names using GeoJSON and Shapely  \n",
    "4. Compute several queries:\n",
    "   - **Query 1**: Taxi utilization  \n",
    "   - **Query 2**: Average time to find the next fare (per destination borough)  \n",
    "   - **Query 3**: Number of trips starting and ending in the same borough  \n",
    "   - **Query 4**: Number of trips that start in one borough and end in another  \n"
   ]
  },
  {
   "cell_type": "markdown",
   "metadata": {},
   "source": [
    "## 1. Imports and Spark Session"
   ]
  },
  {
   "cell_type": "code",
   "execution_count": 77,
   "metadata": {},
   "outputs": [],
   "source": [
    "import json\n",
    "from shapely.geometry import shape, Point\n",
    "\n",
    "# PySpark imports\n",
    "from pyspark.sql import SparkSession\n",
    "import pyspark.sql.functions as F\n",
    "from pyspark.sql.window import Window\n",
    "from pyspark.sql.types import StructType, StructField, StringType, IntegerType, DoubleType, TimestampType\n",
    "\n",
    "import matplotlib.pyplot as plt\n",
    "import seaborn as sns\n"
   ]
  },
  {
   "cell_type": "code",
   "execution_count": 47,
   "metadata": {},
   "outputs": [],
   "source": [
    "spark = SparkSession.builder \\\n",
    "    .appName(\"NYCTaxiAnalysis\") \\\n",
    "    .getOrCreate()\n",
    "\n",
    "# Example schema for the sample CSV (adjust to match your file)\n",
    "schema = StructType([\n",
    "    StructField(\"medallion\", StringType(), True),\n",
    "    StructField(\"hack_license\", StringType(), True),\n",
    "    StructField(\"vendor_id\", StringType(), True),\n",
    "    StructField(\"rate_code\", StringType(), True),\n",
    "    StructField(\"store_and_fwd_flag\", StringType(), True),\n",
    "    StructField(\"pickup_datetime\", StringType(), True),\n",
    "    StructField(\"dropoff_datetime\", StringType(), True),\n",
    "    StructField(\"passenger_count\", IntegerType(), True),\n",
    "    StructField(\"trip_time_in_secs\", IntegerType(), True),\n",
    "    StructField(\"trip_distance\", DoubleType(), True),\n",
    "    StructField(\"pickup_longitude\", DoubleType(), True),\n",
    "    StructField(\"pickup_latitude\", DoubleType(), True),\n",
    "    StructField(\"dropoff_longitude\", DoubleType(), True),\n",
    "    StructField(\"dropoff_latitude\", DoubleType(), True)\n",
    "])\n"
   ]
  },
  {
   "cell_type": "code",
   "execution_count": 48,
   "metadata": {},
   "outputs": [],
   "source": [
    "csv_path = \"sample/nyc_taxi_sample.csv\""
   ]
  },
  {
   "cell_type": "code",
   "execution_count": 49,
   "metadata": {},
   "outputs": [
    {
     "name": "stdout",
     "output_type": "stream",
     "text": [
      "root\n",
      " |-- medallion: string (nullable = true)\n",
      " |-- hack_license: string (nullable = true)\n",
      " |-- vendor_id: string (nullable = true)\n",
      " |-- rate_code: integer (nullable = true)\n",
      " |-- store_and_fwd_flag: string (nullable = true)\n",
      " |-- pickup_datetime: string (nullable = true)\n",
      " |-- dropoff_datetime: string (nullable = true)\n",
      " |-- passenger_count: integer (nullable = true)\n",
      " |-- pickup_longitude: double (nullable = true)\n",
      " |-- pickup_latitude: double (nullable = true)\n",
      " |-- dropoff_longitude: double (nullable = true)\n",
      " |-- dropoff_latitude: double (nullable = true)\n",
      "\n"
     ]
    }
   ],
   "source": [
    "df = spark.read.csv(\n",
    "    csv_path,\n",
    "    header=True,\n",
    "    inferSchema=True\n",
    ")\n",
    "\n",
    "df.printSchema()"
   ]
  },
  {
   "cell_type": "markdown",
   "metadata": {},
   "source": []
  },
  {
   "cell_type": "code",
   "execution_count": 50,
   "metadata": {},
   "outputs": [
    {
     "name": "stdout",
     "output_type": "stream",
     "text": [
      "+--------------------+--------------------+---------+---------+------------------+---------------+----------------+---------------+----------------+---------------+-----------------+----------------+\n",
      "|           medallion|        hack_license|vendor_id|rate_code|store_and_fwd_flag|pickup_datetime|dropoff_datetime|passenger_count|pickup_longitude|pickup_latitude|dropoff_longitude|dropoff_latitude|\n",
      "+--------------------+--------------------+---------+---------+------------------+---------------+----------------+---------------+----------------+---------------+-----------------+----------------+\n",
      "|89D227B655E5C82AE...|BA96DE419E711691B...|      CMT|        1|                 N| 01-01-13 15:11|  01-01-13 15:18|              4|      -73.978165|      40.757977|       -73.989838|       40.751171|\n",
      "|0BD7C8F5BA12B88E0...|9FD8F69F0804BDB55...|      CMT|        1|                 N| 06-01-13 00:18|  06-01-13 00:22|              1|      -74.006683|      40.731781|       -73.994499|        40.75066|\n",
      "|0BD7C8F5BA12B88E0...|9FD8F69F0804BDB55...|      CMT|        1|                 N| 05-01-13 18:49|  05-01-13 18:54|              1|      -74.004707|       40.73777|       -74.009834|       40.726002|\n",
      "|DFD2202EE08F7A8DC...|51EE87E3205C985EF...|      CMT|        1|                 N| 07-01-13 23:54|  07-01-13 23:58|              2|      -73.974602|      40.759945|       -73.984734|       40.759388|\n",
      "|DFD2202EE08F7A8DC...|51EE87E3205C985EF...|      CMT|        1|                 N| 07-01-13 23:25|  07-01-13 23:34|              1|       -73.97625|      40.748528|       -74.002586|       40.747868|\n",
      "+--------------------+--------------------+---------+---------+------------------+---------------+----------------+---------------+----------------+---------------+-----------------+----------------+\n",
      "only showing top 5 rows\n",
      "\n"
     ]
    }
   ],
   "source": [
    "df.show(5)"
   ]
  },
  {
   "cell_type": "markdown",
   "metadata": {},
   "source": [
    "## 2. Data Preprocessing and Cleaning\n",
    "- Convert pickup/dropoff times to timestamps.\n",
    "- Compute a duration in seconds.\n",
    "- Filter out negative or extremely long durations (> 4 hours)."
   ]
  },
  {
   "cell_type": "code",
   "execution_count": 51,
   "metadata": {},
   "outputs": [],
   "source": [
    "# Convert to unix timestamps (in seconds)**\n",
    "\n",
    "df = df.withColumn(\n",
    "    \"pickup_ts\",\n",
    "    F.unix_timestamp(\"pickup_datetime\", \"MM-dd-yy HH:mm\")\n",
    ")\n",
    "\n",
    "df = df.withColumn(\n",
    "    \"dropoff_ts\",\n",
    "    F.unix_timestamp(\"dropoff_datetime\", \"MM-dd-yy HH:mm\")\n",
    ")"
   ]
  },
  {
   "cell_type": "code",
   "execution_count": 52,
   "metadata": {},
   "outputs": [
    {
     "name": "stdout",
     "output_type": "stream",
     "text": [
      "+---------------+----------+\n",
      "|pickup_datetime|pickup_ts |\n",
      "+---------------+----------+\n",
      "|01-01-13 15:11 |1357045860|\n",
      "|06-01-13 00:18 |1370035080|\n",
      "|05-01-13 18:49 |1367423340|\n",
      "|07-01-13 23:54 |1372712040|\n",
      "|07-01-13 23:25 |1372710300|\n",
      "+---------------+----------+\n",
      "only showing top 5 rows\n",
      "\n"
     ]
    }
   ],
   "source": [
    "df.select(\"pickup_datetime\", \"pickup_ts\").show(5, truncate=False)\n"
   ]
  },
  {
   "cell_type": "code",
   "execution_count": 53,
   "metadata": {},
   "outputs": [],
   "source": [
    "df = df.withColumn(\"Duration\", F.col(\"dropoff_ts\") - F.col(\"pickup_ts\"))"
   ]
  },
  {
   "cell_type": "code",
   "execution_count": 54,
   "metadata": {},
   "outputs": [],
   "source": [
    "df = df.filter(\n",
    "    (F.col(\"Duration\") >= 0) &\n",
    "    (F.col(\"Duration\") <= 14400)  # 4 hours = 14400 seconds\n",
    ")"
   ]
  },
  {
   "cell_type": "code",
   "execution_count": 55,
   "metadata": {},
   "outputs": [
    {
     "name": "stdout",
     "output_type": "stream",
     "text": [
      "+--------------------+--------------------+---------+---------+------------------+---------------+----------------+---------------+----------------+---------------+-----------------+----------------+----------+----------+--------+\n",
      "|           medallion|        hack_license|vendor_id|rate_code|store_and_fwd_flag|pickup_datetime|dropoff_datetime|passenger_count|pickup_longitude|pickup_latitude|dropoff_longitude|dropoff_latitude| pickup_ts|dropoff_ts|Duration|\n",
      "+--------------------+--------------------+---------+---------+------------------+---------------+----------------+---------------+----------------+---------------+-----------------+----------------+----------+----------+--------+\n",
      "|89D227B655E5C82AE...|BA96DE419E711691B...|      CMT|        1|                 N| 01-01-13 15:11|  01-01-13 15:18|              4|      -73.978165|      40.757977|       -73.989838|       40.751171|1357045860|1357046280|     420|\n",
      "|0BD7C8F5BA12B88E0...|9FD8F69F0804BDB55...|      CMT|        1|                 N| 06-01-13 00:18|  06-01-13 00:22|              1|      -74.006683|      40.731781|       -73.994499|        40.75066|1370035080|1370035320|     240|\n",
      "|0BD7C8F5BA12B88E0...|9FD8F69F0804BDB55...|      CMT|        1|                 N| 05-01-13 18:49|  05-01-13 18:54|              1|      -74.004707|       40.73777|       -74.009834|       40.726002|1367423340|1367423640|     300|\n",
      "|DFD2202EE08F7A8DC...|51EE87E3205C985EF...|      CMT|        1|                 N| 07-01-13 23:54|  07-01-13 23:58|              2|      -73.974602|      40.759945|       -73.984734|       40.759388|1372712040|1372712280|     240|\n",
      "|DFD2202EE08F7A8DC...|51EE87E3205C985EF...|      CMT|        1|                 N| 07-01-13 23:25|  07-01-13 23:34|              1|       -73.97625|      40.748528|       -74.002586|       40.747868|1372710300|1372710840|     540|\n",
      "+--------------------+--------------------+---------+---------+------------------+---------------+----------------+---------------+----------------+---------------+-----------------+----------------+----------+----------+--------+\n",
      "only showing top 5 rows\n",
      "\n"
     ]
    }
   ],
   "source": [
    "df.show(5)"
   ]
  },
  {
   "cell_type": "markdown",
   "metadata": {},
   "source": [
    "## 3. Load GeoJSON and Prepare Borough Polygons\n",
    "- We will parse the GeoJSON file and create Shapely `Polygon` objects.\n",
    "- Then we'll sort by `(borough_code, -area)` for faster lookups."
   ]
  },
  {
   "cell_type": "code",
   "execution_count": 59,
   "metadata": {},
   "outputs": [],
   "source": [
    "geojson_path = \"sample/nyc_boroughs.geojson\"\n",
    "\n",
    "with open(geojson_path, \"r\") as f:\n",
    "    geojson_data = json.load(f)\n",
    "\n",
    "features = geojson_data[\"features\"]"
   ]
  },
  {
   "cell_type": "code",
   "execution_count": 60,
   "metadata": {},
   "outputs": [],
   "source": [
    "borough_polygons = []\n",
    "for feat in features:\n",
    "    props = feat[\"properties\"]\n",
    "    borough_code = props[\"boroughCode\"]\n",
    "    borough_name = props[\"borough\"]\n",
    "    \n",
    "    geom = shape(feat[\"geometry\"])  # Shapely geometry (Polygon or MultiPolygon)\n",
    "    area = geom.area\n",
    "    \n",
    "    borough_polygons.append((borough_code, borough_name, geom, area))"
   ]
  },
  {
   "cell_type": "code",
   "execution_count": 61,
   "metadata": {},
   "outputs": [],
   "source": [
    "\n",
    "# Sort by (borough_code ascending, area descending)\n",
    "borough_polygons.sort(key=lambda x: (x[0], -x[3]))"
   ]
  },
  {
   "cell_type": "code",
   "execution_count": 64,
   "metadata": {},
   "outputs": [
    {
     "data": {
      "text/plain": [
       "[(1,\n",
       "  'Manhattan',\n",
       "  <POLYGON ((-73.926 40.878, -73.926 40.877, -73.926 40.877, -73.926 40.877, -...>,\n",
       "  0.005859077996035753),\n",
       " (1,\n",
       "  'Manhattan',\n",
       "  <POLYGON ((-73.921 40.801, -73.92 40.799, -73.917 40.798, -73.915 40.797, -7...>,\n",
       "  0.00023271655856762013),\n",
       " (1,\n",
       "  'Manhattan',\n",
       "  <POLYGON ((-74.017 40.693, -74.015 40.693, -74.015 40.693, -74.015 40.693, -...>,\n",
       "  7.6037752599342e-05),\n",
       " (1,\n",
       "  'Manhattan',\n",
       "  <POLYGON ((-73.942 40.769, -73.943 40.768, -73.949 40.761, -73.952 40.758, -...>,\n",
       "  6.23157479510608e-05),\n",
       " (1,\n",
       "  'Manhattan',\n",
       "  <POLYGON ((-73.907 40.876, -73.908 40.873, -73.908 40.873, -73.909 40.872, -...>,\n",
       "  3.2658591272044954e-05),\n",
       " (1,\n",
       "  'Manhattan',\n",
       "  <POLYGON ((-74.04 40.701, -74.038 40.699, -74.038 40.699, -74.038 40.698, -7...>,\n",
       "  1.1828883137677094e-05),\n",
       " (1,\n",
       "  'Manhattan',\n",
       "  <POLYGON ((-74.044 40.69, -74.044 40.69, -74.043 40.69, -74.043 40.69, -74.0...>,\n",
       "  6.143638903459381e-06),\n",
       " (1,\n",
       "  'Manhattan',\n",
       "  <POLYGON ((-73.995 40.703, -73.997 40.701, -73.998 40.702, -73.996 40.703, -...>,\n",
       "  3.3831273674444417e-06),\n",
       " (1,\n",
       "  'Manhattan',\n",
       "  <POLYGON ((-74.001 40.691, -74.001 40.691, -74.005 40.692, -74.004 40.693, -...>,\n",
       "  2.858823502476497e-06),\n",
       " (1,\n",
       "  'Manhattan',\n",
       "  <POLYGON ((-74.001 40.694, -74.001 40.694, -74.003 40.695, -74.002 40.696, -...>,\n",
       "  2.393654308790746e-06),\n",
       " (1,\n",
       "  'Manhattan',\n",
       "  <POLYGON ((-74.002 40.693, -74.002 40.692, -74.004 40.693, -74.003 40.694, -...>,\n",
       "  2.3345540772235924e-06),\n",
       " (1,\n",
       "  'Manhattan',\n",
       "  <POLYGON ((-73.998 40.698, -73.999 40.697, -74.001 40.698, -74 40.699, -73.9...>,\n",
       "  2.2627340976761147e-06),\n",
       " (1,\n",
       "  'Manhattan',\n",
       "  <POLYGON ((-74.004 40.689, -74.005 40.688, -74.007 40.689, -74.006 40.69, -7...>,\n",
       "  2.2465297475388565e-06),\n",
       " (1,\n",
       "  'Manhattan',\n",
       "  <POLYGON ((-74.003 40.69, -74.003 40.69, -74.006 40.69, -74.005 40.691, -74....>,\n",
       "  2.24116737819868e-06),\n",
       " (1,\n",
       "  'Manhattan',\n",
       "  <POLYGON ((-74.005 40.688, -74.006 40.687, -74.008 40.687, -74.007 40.688, -...>,\n",
       "  2.2094455927089308e-06),\n",
       " (1,\n",
       "  'Manhattan',\n",
       "  <POLYGON ((-73.998 40.699, -74 40.699, -73.999 40.7, -73.997 40.7, -73.998 4...>,\n",
       "  2.0486362960502745e-06),\n",
       " (1,\n",
       "  'Manhattan',\n",
       "  <POLYGON ((-74.011 40.684, -74.012 40.684, -74.012 40.684, -74.008 40.686, -...>,\n",
       "  1.3300494774255711e-06),\n",
       " (1,\n",
       "  'Manhattan',\n",
       "  <POLYGON ((-73.938 40.781, -73.938 40.781, -73.938 40.781, -73.938 40.781, -...>,\n",
       "  1.1111770551654054e-06),\n",
       " (1,\n",
       "  'Manhattan',\n",
       "  <POLYGON ((-73.962 40.733, -73.962 40.733, -73.964 40.733, -73.964 40.733, -...>,\n",
       "  2.354033827718773e-07),\n",
       " (1,\n",
       "  'Manhattan',\n",
       "  <POLYGON ((-73.964 40.721, -73.964 40.721, -73.965 40.721, -73.965 40.721, -...>,\n",
       "  2.0929022926724522e-07),\n",
       " (1,\n",
       "  'Manhattan',\n",
       "  <POLYGON ((-74 40.697, -74 40.697, -74 40.697, -73.999 40.697, -74 40.697, -...>,\n",
       "  1.846462957014482e-07),\n",
       " (1,\n",
       "  'Manhattan',\n",
       "  <POLYGON ((-73.982 40.706, -73.982 40.706, -73.981 40.706, -73.981 40.706, -...>,\n",
       "  1.4422339519800844e-07),\n",
       " (1,\n",
       "  'Manhattan',\n",
       "  <POLYGON ((-73.995 40.703, -73.995 40.703, -73.995 40.704, -73.995 40.703, -...>,\n",
       "  1.3331706776569288e-07),\n",
       " (1,\n",
       "  'Manhattan',\n",
       "  <POLYGON ((-73.962 40.724, -73.962 40.724, -73.962 40.724, -73.962 40.724, -...>,\n",
       "  5.520915066149827e-08),\n",
       " (1,\n",
       "  'Manhattan',\n",
       "  <POLYGON ((-73.967 40.718, -73.967 40.718, -73.967 40.718, -73.967 40.718, -...>,\n",
       "  4.628661363957814e-08),\n",
       " (1,\n",
       "  'Manhattan',\n",
       "  <POLYGON ((-73.964 40.747, -73.965 40.746, -73.964 40.747, -73.964 40.747))>,\n",
       "  4.450690215647885e-08),\n",
       " (1,\n",
       "  'Manhattan',\n",
       "  <POLYGON ((-73.966 40.719, -73.966 40.719, -73.967 40.719, -73.967 40.719, -...>,\n",
       "  3.3502480074457656e-08),\n",
       " (1,\n",
       "  'Manhattan',\n",
       "  <POLYGON ((-73.964 40.72, -73.964 40.72, -73.965 40.72, -73.964 40.72))>,\n",
       "  1.9360379779908003e-08),\n",
       " (1,\n",
       "  'Manhattan',\n",
       "  <POLYGON ((-73.995 40.704, -73.995 40.704, -73.995 40.704, -73.995 40.704))>,\n",
       "  1.5400254011675615e-08),\n",
       " (2,\n",
       "  'Bronx',\n",
       "  <POLYGON ((-73.873 40.904, -73.859 40.901, -73.859 40.901, -73.859 40.901, -...>,\n",
       "  0.011405869460254603),\n",
       " (2,\n",
       "  'Bronx',\n",
       "  <POLYGON ((-73.889 40.799, -73.888 40.799, -73.888 40.799, -73.888 40.798, -...>,\n",
       "  0.00017978427201030463),\n",
       " (2,\n",
       "  'Bronx',\n",
       "  <POLYGON ((-73.792 40.852, -73.792 40.852, -73.79 40.852, -73.791 40.852, -7...>,\n",
       "  0.00011950782695100646),\n",
       " (2,\n",
       "  'Bronx',\n",
       "  <POLYGON ((-73.768 40.854, -73.769 40.853, -73.769 40.853, -73.769 40.853, -...>,\n",
       "  4.780067039404385e-05),\n",
       " (2,\n",
       "  'Bronx',\n",
       "  <POLYGON ((-73.898 40.802, -73.896 40.801, -73.899 40.799, -73.9 40.799, -73...>,\n",
       "  6.801657143732415e-06),\n",
       " (2,\n",
       "  'Bronx',\n",
       "  <POLYGON ((-73.802 40.842, -73.803 40.841, -73.805 40.841, -73.807 40.841, -...>,\n",
       "  5.380576721703371e-06),\n",
       " (2,\n",
       "  'Bronx',\n",
       "  <POLYGON ((-73.785 40.86, -73.784 40.86, -73.785 40.86, -73.785 40.859, -73....>,\n",
       "  2.921893508278581e-06),\n",
       " (2,\n",
       "  'Bronx',\n",
       "  <POLYGON ((-73.897 40.796, -73.897 40.796, -73.898 40.796, -73.899 40.797, -...>,\n",
       "  2.36811429187897e-06),\n",
       " (2,\n",
       "  'Bronx',\n",
       "  <POLYGON ((-73.771 40.872, -73.77 40.87, -73.773 40.871, -73.772 40.872, -73...>,\n",
       "  1.9032491309768505e-06),\n",
       " (2,\n",
       "  'Bronx',\n",
       "  <POLYGON ((-73.787 40.881, -73.786 40.881, -73.786 40.88, -73.787 40.88, -73...>,\n",
       "  1.0910401185566017e-06),\n",
       " (2,\n",
       "  'Bronx',\n",
       "  <POLYGON ((-73.783 40.856, -73.783 40.855, -73.784 40.855, -73.784 40.856, -...>,\n",
       "  8.955173168084263e-07),\n",
       " (2,\n",
       "  'Bronx',\n",
       "  <POLYGON ((-73.788 40.835, -73.789 40.834, -73.79 40.835, -73.788 40.835, -7...>,\n",
       "  7.951846567743584e-07),\n",
       " (2,\n",
       "  'Bronx',\n",
       "  <POLYGON ((-73.781 40.856, -73.781 40.855, -73.782 40.855, -73.782 40.856, -...>,\n",
       "  7.729375617252811e-07),\n",
       " (2,\n",
       "  'Bronx',\n",
       "  <POLYGON ((-73.767 40.867, -73.767 40.867, -73.768 40.867, -73.768 40.867, -...>,\n",
       "  5.168245776873323e-07),\n",
       " (2,\n",
       "  'Bronx',\n",
       "  <POLYGON ((-73.784 40.863, -73.784 40.863, -73.784 40.863, -73.784 40.863, -...>,\n",
       "  4.931507737422654e-07),\n",
       " (2,\n",
       "  'Bronx',\n",
       "  <POLYGON ((-73.774 40.874, -73.775 40.874, -73.775 40.875, -73.774 40.875, -...>,\n",
       "  2.91166968462548e-07),\n",
       " (2,\n",
       "  'Bronx',\n",
       "  <POLYGON ((-73.773 40.861, -73.773 40.861, -73.774 40.861, -73.773 40.862, -...>,\n",
       "  2.667385624252891e-07),\n",
       " (2,\n",
       "  'Bronx',\n",
       "  <POLYGON ((-73.775 40.862, -73.775 40.861, -73.775 40.861, -73.775 40.861, -...>,\n",
       "  1.8982508143966256e-07),\n",
       " (2,\n",
       "  'Bronx',\n",
       "  <POLYGON ((-73.783 40.863, -73.783 40.863, -73.783 40.862, -73.783 40.862, -...>,\n",
       "  1.7897870686581272e-07),\n",
       " (2,\n",
       "  'Bronx',\n",
       "  <POLYGON ((-73.77 40.865, -73.77 40.865, -73.77 40.865, -73.77 40.866, -73.7...>,\n",
       "  1.6329670533093593e-07),\n",
       " (2,\n",
       "  'Bronx',\n",
       "  <POLYGON ((-73.782 40.844, -73.781 40.845, -73.78 40.844, -73.781 40.844, -7...>,\n",
       "  1.0305277859851055e-07),\n",
       " (2,\n",
       "  'Bronx',\n",
       "  <POLYGON ((-73.782 40.875, -73.783 40.875, -73.783 40.875, -73.782 40.875, -...>,\n",
       "  7.441016249202313e-08),\n",
       " (2,\n",
       "  'Bronx',\n",
       "  <POLYGON ((-73.786 40.873, -73.787 40.873, -73.787 40.873, -73.786 40.873, -...>,\n",
       "  6.988769548838799e-08),\n",
       " (2,\n",
       "  'Bronx',\n",
       "  <POLYGON ((-73.781 40.876, -73.781 40.876, -73.781 40.876, -73.781 40.877, -...>,\n",
       "  4.912417058326115e-08),\n",
       " (2,\n",
       "  'Bronx',\n",
       "  <POLYGON ((-73.786 40.874, -73.786 40.874, -73.786 40.874, -73.786 40.874, -...>,\n",
       "  4.016730699910924e-08),\n",
       " (2,\n",
       "  'Bronx',\n",
       "  <POLYGON ((-73.783 40.844, -73.783 40.844, -73.783 40.843, -73.783 40.844, -...>,\n",
       "  2.895781109545312e-08),\n",
       " (2,\n",
       "  'Bronx',\n",
       "  <POLYGON ((-73.805 40.815, -73.805 40.815, -73.805 40.815, -73.805 40.815, -...>,\n",
       "  2.424054791942095e-08),\n",
       " (2,\n",
       "  'Bronx',\n",
       "  <POLYGON ((-73.782 40.844, -73.782 40.844, -73.782 40.843, -73.782 40.844))>,\n",
       "  9.32727613283575e-09),\n",
       " (2,\n",
       "  'Bronx',\n",
       "  <POLYGON ((-73.782 40.844, -73.782 40.844, -73.782 40.844, -73.782 40.844))>,\n",
       "  8.237251741546935e-09),\n",
       " (2,\n",
       "  'Bronx',\n",
       "  <POLYGON ((-73.804 40.813, -73.804 40.814, -73.804 40.814, -73.804 40.814, -...>,\n",
       "  5.094442942481346e-09),\n",
       " (3,\n",
       "  'Brooklyn',\n",
       "  <POLYGON ((-73.954 40.739, -73.952 40.739, -73.947 40.737, -73.946 40.737, -...>,\n",
       "  0.018705568498840683),\n",
       " (3,\n",
       "  'Brooklyn',\n",
       "  <POLYGON ((-73.847 40.629, -73.85 40.626, -73.847 40.627, -73.845 40.625, -7...>,\n",
       "  0.00012096573285815688),\n",
       " (3,\n",
       "  'Brooklyn',\n",
       "  <POLYGON ((-73.843 40.618, -73.843 40.617, -73.844 40.617, -73.845 40.615, -...>,\n",
       "  9.607138763144004e-05),\n",
       " (3,\n",
       "  'Brooklyn',\n",
       "  <POLYGON ((-73.871 40.617, -73.878 40.615, -73.875 40.624, -73.867 40.628, -...>,\n",
       "  9.109297705595764e-05),\n",
       " (3,\n",
       "  'Brooklyn',\n",
       "  <POLYGON ((-73.847 40.632, -73.849 40.63, -73.859 40.63, -73.856 40.635, -73...>,\n",
       "  7.87410511885683e-05),\n",
       " (3,\n",
       "  'Brooklyn',\n",
       "  <POLYGON ((-73.867 40.582, -73.868 40.582, -73.869 40.582, -73.87 40.583, -7...>,\n",
       "  6.81847134487497e-05),\n",
       " (3,\n",
       "  'Brooklyn',\n",
       "  <POLYGON ((-73.855 40.616, -73.855 40.613, -73.852 40.613, -73.854 40.614, -...>,\n",
       "  5.9427897594547475e-05),\n",
       " (3,\n",
       "  'Brooklyn',\n",
       "  <POLYGON ((-73.852 40.597, -73.854 40.597, -73.855 40.597, -73.855 40.596, -...>,\n",
       "  5.56340780263587e-05),\n",
       " (3,\n",
       "  'Brooklyn',\n",
       "  <POLYGON ((-73.92 40.6, -73.92 40.6, -73.919 40.6, -73.919 40.599, -73.918 4...>,\n",
       "  3.504738769943236e-05),\n",
       " (3,\n",
       "  'Brooklyn',\n",
       "  <POLYGON ((-73.836 40.631, -73.841 40.625, -73.844 40.63, -73.842 40.632, -7...>,\n",
       "  3.455536133987884e-05),\n",
       " (3,\n",
       "  'Brooklyn',\n",
       "  <POLYGON ((-73.833 40.627, -73.834 40.614, -73.834 40.614, -73.835 40.615, -...>,\n",
       "  1.935775024021656e-05),\n",
       " (3,\n",
       "  'Brooklyn',\n",
       "  <POLYGON ((-73.87 40.607, -73.871 40.605, -73.871 40.606, -73.872 40.608, -7...>,\n",
       "  7.98836017055154e-06),\n",
       " (3,\n",
       "  'Brooklyn',\n",
       "  <POLYGON ((-73.834 40.607, -73.836 40.606, -73.836 40.607, -73.834 40.609, -...>,\n",
       "  3.043638893561174e-06),\n",
       " (3,\n",
       "  'Brooklyn',\n",
       "  <POLYGON ((-73.87 40.599, -73.871 40.599, -73.87 40.603, -73.87 40.602, -73....>,\n",
       "  1.89269847772256e-06),\n",
       " (3,\n",
       "  'Brooklyn',\n",
       "  <POLYGON ((-73.867 40.608, -73.869 40.607, -73.869 40.608, -73.868 40.609, -...>,\n",
       "  1.3328343888083472e-06),\n",
       " (3,\n",
       "  'Brooklyn',\n",
       "  <POLYGON ((-73.833 40.627, -73.835 40.627, -73.833 40.628, -73.833 40.627))>,\n",
       "  1.0264356143912477e-06),\n",
       " (3,\n",
       "  'Brooklyn',\n",
       "  <POLYGON ((-73.867 40.604, -73.868 40.603, -73.868 40.603, -73.868 40.604, -...>,\n",
       "  8.40171264952708e-07),\n",
       " (3,\n",
       "  'Brooklyn',\n",
       "  <POLYGON ((-73.87 40.599, -73.87 40.597, -73.87 40.597, -73.87 40.599))>,\n",
       "  5.641493932771596e-07),\n",
       " (3,\n",
       "  'Brooklyn',\n",
       "  <POLYGON ((-73.928 40.589, -73.928 40.589, -73.928 40.589, -73.929 40.589, -...>,\n",
       "  3.840639886394884e-08),\n",
       " (3,\n",
       "  'Brooklyn',\n",
       "  <POLYGON ((-73.901 40.588, -73.901 40.587, -73.901 40.587, -73.901 40.588))>,\n",
       "  3.552018173453535e-08),\n",
       " (3,\n",
       "  'Brooklyn',\n",
       "  <POLYGON ((-73.931 40.595, -73.932 40.594, -73.932 40.595, -73.931 40.595))>,\n",
       "  2.234687702972632e-08),\n",
       " (4,\n",
       "  'Queens',\n",
       "  <POLYGON ((-73.891 40.776, -73.891 40.777, -73.891 40.777, -73.891 40.777, -...>,\n",
       "  0.027193754466707243),\n",
       " (4,\n",
       "  'Queens',\n",
       "  <POLYGON ((-73.805 40.597, -73.805 40.597, -73.805 40.597, -73.805 40.598, -...>,\n",
       "  0.002243938358754099),\n",
       " (4,\n",
       "  'Queens',\n",
       "  <POLYGON ((-73.823 40.639, -73.823 40.636, -73.822 40.634, -73.822 40.632, -...>,\n",
       "  0.0004664525482037259),\n",
       " (4,\n",
       "  'Queens',\n",
       "  <POLYGON ((-73.798 40.627, -73.798 40.627, -73.797 40.627, -73.796 40.626, -...>,\n",
       "  8.760574248455358e-05),\n",
       " (4,\n",
       "  'Queens',\n",
       "  <POLYGON ((-73.794 40.608, -73.794 40.606, -73.794 40.606, -73.795 40.607, -...>,\n",
       "  5.434306511324284e-05),\n",
       " (4,\n",
       "  'Queens',\n",
       "  <POLYGON ((-73.813 40.629, -73.814 40.627, -73.813 40.628, -73.811 40.625, -...>,\n",
       "  4.108368216612343e-05),\n",
       " (4,\n",
       "  'Queens',\n",
       "  <POLYGON ((-73.837 40.595, -73.837 40.595, -73.836 40.594, -73.835 40.594, -...>,\n",
       "  3.969785765133643e-05),\n",
       " (4,\n",
       "  'Queens',\n",
       "  <POLYGON ((-73.767 40.615, -73.768 40.615, -73.774 40.616, -73.769 40.621, -...>,\n",
       "  2.5051671337726527e-05),\n",
       " (4,\n",
       "  'Queens',\n",
       "  <POLYGON ((-73.813 40.604, -73.812 40.603, -73.811 40.603, -73.811 40.602, -...>,\n",
       "  2.027805254332613e-05),\n",
       " (4,\n",
       "  'Queens',\n",
       "  <POLYGON ((-73.832 40.606, -73.835 40.605, -73.836 40.606, -73.834 40.607, -...>,\n",
       "  1.5554287776358482e-05),\n",
       " (4,\n",
       "  'Queens',\n",
       "  <POLYGON ((-73.827 40.608, -73.827 40.608, -73.826 40.608, -73.826 40.608, -...>,\n",
       "  3.929145017066745e-06),\n",
       " (4,\n",
       "  'Queens',\n",
       "  <POLYGON ((-73.826 40.608, -73.827 40.608, -73.828 40.608, -73.828 40.61, -7...>,\n",
       "  2.0365800895741225e-06),\n",
       " (4,\n",
       "  'Queens',\n",
       "  <POLYGON ((-73.86 40.654, -73.861 40.655, -73.86 40.655, -73.86 40.654, -73....>,\n",
       "  3.196872334923752e-07),\n",
       " (4,\n",
       "  'Queens',\n",
       "  <POLYGON ((-73.859 40.653, -73.857 40.651, -73.857 40.651, -73.859 40.653))>,\n",
       "  2.8005463512430923e-07),\n",
       " (4,\n",
       "  'Queens',\n",
       "  <POLYGON ((-73.859 40.653, -73.86 40.654, -73.859 40.654, -73.859 40.654, -7...>,\n",
       "  1.5342514832113194e-07),\n",
       " (4,\n",
       "  'Queens',\n",
       "  <POLYGON ((-73.791 40.595, -73.791 40.596, -73.791 40.596, -73.791 40.595))>,\n",
       "  9.644102283599155e-08),\n",
       " (4,\n",
       "  'Queens',\n",
       "  <POLYGON ((-73.83 40.655, -73.83 40.655, -73.83 40.656, -73.83 40.655))>,\n",
       "  5.2855971883112535e-08),\n",
       " (4,\n",
       "  'Queens',\n",
       "  <POLYGON ((-73.74 40.597, -73.74 40.597, -73.74 40.597, -73.74 40.597, -73.7...>,\n",
       "  2.65091868163494e-08),\n",
       " (4,\n",
       "  'Queens',\n",
       "  <POLYGON ((-73.805 40.597, -73.805 40.597, -73.805 40.597, -73.805 40.597, -...>,\n",
       "  2.569079559815976e-08),\n",
       " (4,\n",
       "  'Queens',\n",
       "  <POLYGON ((-73.739 40.597, -73.739 40.597, -73.739 40.597, -73.739 40.597))>,\n",
       "  8.313198983510307e-09),\n",
       " (5,\n",
       "  'Staten Island',\n",
       "  <POLYGON ((-74.082 40.648, -74.081 40.649, -74.081 40.648, -74.08 40.648, -7...>,\n",
       "  0.01603547601912208),\n",
       " (5,\n",
       "  'Staten Island',\n",
       "  <POLYGON ((-74.159 40.641, -74.16 40.641, -74.161 40.642, -74.161 40.644, -7...>,\n",
       "  7.6442837783665e-06),\n",
       " (5,\n",
       "  'Staten Island',\n",
       "  <POLYGON ((-74.053 40.578, -74.054 40.577, -74.055 40.578, -74.055 40.58, -7...>,\n",
       "  5.013645098231966e-06),\n",
       " (5,\n",
       "  'Staten Island',\n",
       "  <POLYGON ((-74.051 40.566, -74.05 40.566, -74.049 40.566, -74.049 40.565, -7...>,\n",
       "  1.2242288022741093e-06)]"
      ]
     },
     "execution_count": 64,
     "metadata": {},
     "output_type": "execute_result"
    }
   ],
   "source": [
    "borough_polygons"
   ]
  },
  {
   "cell_type": "code",
   "execution_count": 66,
   "metadata": {},
   "outputs": [],
   "source": [
    "# We only need (boroughName, geometry) in the final broadcast\n",
    "sorted_boroughs = [(b[1], b[2]) for b in borough_polygons]"
   ]
  },
  {
   "cell_type": "code",
   "execution_count": 67,
   "metadata": {},
   "outputs": [],
   "source": [
    "# Broadcast to Spark workers\n",
    "broadcast_boroughs = spark.sparkContext.broadcast(sorted_boroughs)"
   ]
  },
  {
   "cell_type": "code",
   "execution_count": 68,
   "metadata": {},
   "outputs": [
    {
     "data": {
      "text/plain": [
       "104"
      ]
     },
     "execution_count": 68,
     "metadata": {},
     "output_type": "execute_result"
    }
   ],
   "source": [
    "len(sorted_boroughs)"
   ]
  },
  {
   "cell_type": "markdown",
   "metadata": {},
   "source": [
    "## 5. Define a UDF to Find Borough for (Latitude, Longitude)\n",
    "We'll use Shapely to check which polygon contains the point."
   ]
  },
  {
   "cell_type": "code",
   "execution_count": 69,
   "metadata": {},
   "outputs": [],
   "source": [
    "def find_borough(lat, lon, borough_list):\n",
    "    \"\"\"\n",
    "    Given lat, lon, return the borough name if it falls inside a polygon,\n",
    "    otherwise return 'Unknown'.\n",
    "    \"\"\"\n",
    "    if lat is None or lon is None:\n",
    "        return None\n",
    "    point = Point(lon, lat)  # shapely Point uses (x=lon, y=lat)\n",
    "    \n",
    "    for borough_name, polygon in borough_list:\n",
    "        if polygon.contains(point):\n",
    "            return borough_name\n",
    "    \n",
    "    return \"Unknown\"\n",
    "\n",
    "def borough_lookup_udf(lat, lon):\n",
    "    return find_borough(lat, lon, broadcast_boroughs.value)\n",
    "\n",
    "# Register as a Spark UDF\n",
    "lookup_udf = F.udf(borough_lookup_udf, StringType())"
   ]
  },
  {
   "cell_type": "markdown",
   "metadata": {},
   "source": [
    "## 6. Enrich Taxi Data with Borough Names\n",
    "- Apply the UDF to pickup and dropoff lat/lon.\n",
    "- Rename the `medallion` column to `taxi_id` (for clarity)."
   ]
  },
  {
   "cell_type": "code",
   "execution_count": 71,
   "metadata": {},
   "outputs": [
    {
     "name": "stdout",
     "output_type": "stream",
     "text": [
      "+--------------------------------+--------------+---------------+\n",
      "|taxi_id                         |pickup_borough|dropoff_borough|\n",
      "+--------------------------------+--------------+---------------+\n",
      "|89D227B655E5C82AECF13C3F540D4CF4|Manhattan     |Manhattan      |\n",
      "|0BD7C8F5BA12B88E0B67BED28BEA73D8|Manhattan     |Manhattan      |\n",
      "|0BD7C8F5BA12B88E0B67BED28BEA73D8|Manhattan     |Manhattan      |\n",
      "|DFD2202EE08F7A8DC9A57B02ACB81FE2|Manhattan     |Manhattan      |\n",
      "|DFD2202EE08F7A8DC9A57B02ACB81FE2|Manhattan     |Manhattan      |\n",
      "+--------------------------------+--------------+---------------+\n",
      "only showing top 5 rows\n",
      "\n"
     ]
    },
    {
     "name": "stderr",
     "output_type": "stream",
     "text": [
      "                                                                                \r"
     ]
    }
   ],
   "source": [
    "df = df.withColumn(\"pickup_borough\",\n",
    "                   lookup_udf(\"pickup_latitude\", \"pickup_longitude\"))\n",
    "df = df.withColumn(\"dropoff_borough\",\n",
    "                   lookup_udf(\"dropoff_latitude\", \"dropoff_longitude\"))\n",
    "\n",
    "df = df.withColumnRenamed(\"medallion\", \"taxi_id\")\n",
    "\n",
    "df.select(\"taxi_id\", \"pickup_borough\", \"dropoff_borough\").show(5, truncate=False)"
   ]
  },
  {
   "cell_type": "markdown",
   "metadata": {},
   "source": [
    "## 7. Queries\n",
    "\n",
    "### 7.1 Query 1: Utilization per Taxi\n",
    "Utilization = Total Ride Time / (Total Ride Time + Total Idle Time)\n",
    "\n",
    "We'll:\n",
    "1. Partition by `taxi_id`, order by `pickup_ts`.\n",
    "2. Compute idle time = gap between consecutive trips (if <= 4 hours).\n",
    "3. Sum up ride time and idle time per taxi.\n",
    "4. Compute utilization."
   ]
  },
  {
   "cell_type": "code",
   "execution_count": 72,
   "metadata": {},
   "outputs": [
    {
     "name": "stdout",
     "output_type": "stream",
     "text": [
      "=== Utilization per Taxi ===\n"
     ]
    },
    {
     "name": "stderr",
     "output_type": "stream",
     "text": [
      "[Stage 42:=============================>                            (2 + 2) / 4]\r"
     ]
    },
    {
     "name": "stdout",
     "output_type": "stream",
     "text": [
      "+--------------------------------+---------------+---------------+-------------------+\n",
      "|taxi_id                         |total_ride_time|total_idle_time|utilization        |\n",
      "+--------------------------------+---------------+---------------+-------------------+\n",
      "|01C34EB474D1D99C1F26E12FCF08B9F6|420            |0              |1.0                |\n",
      "|02BFD1B64C2C80B433D3A282C828912B|480            |0              |1.0                |\n",
      "|0428E3DD09EA5A63D85509C7CA8C0199|300            |0              |1.0                |\n",
      "|08099C118772D01BBA1C3F486BD8AF1E|600            |0              |1.0                |\n",
      "|09C6A58617D39C6AF257965FE1EADADD|180            |0              |1.0                |\n",
      "|0A3EF18FFD7FA5327C66C6B1CE068F3A|1380           |0              |1.0                |\n",
      "|0B57B9633A2FECD3D3B1944AFC7471CF|3300           |12300          |0.21153846153846154|\n",
      "|0BD7C8F5BA12B88E0B67BED28BEA73D8|540            |0              |1.0                |\n",
      "|0C3D03822EC2B0DAABC565EF330580E9|120            |0              |1.0                |\n",
      "|0C5296F3C8B16E702F8F2E06F5106552|2160           |4920           |0.3050847457627119 |\n",
      "+--------------------------------+---------------+---------------+-------------------+\n",
      "only showing top 10 rows\n",
      "\n"
     ]
    },
    {
     "name": "stderr",
     "output_type": "stream",
     "text": [
      "                                                                                \r"
     ]
    }
   ],
   "source": [
    "# Window partitioned by taxi_id, ordered by pickup_ts\n",
    "w = Window.partitionBy(\"taxi_id\").orderBy(\"pickup_ts\")\n",
    "\n",
    "df = df.withColumn(\"prev_dropoff_ts\", F.lag(\"dropoff_ts\").over(w))\n",
    "\n",
    "# Idle time between consecutive trips (if gap <= 4 hours)\n",
    "idle_expr = F.when(\n",
    "    (F.col(\"pickup_ts\") - F.col(\"prev_dropoff_ts\") <= 4 * 3600) &\n",
    "    (F.col(\"pickup_ts\") - F.col(\"prev_dropoff_ts\") >= 0),\n",
    "    F.col(\"pickup_ts\") - F.col(\"prev_dropoff_ts\")\n",
    ").otherwise(F.lit(0))\n",
    "\n",
    "df = df.withColumn(\"idle_time\", idle_expr)\n",
    "\n",
    "util_df = df.groupBy(\"taxi_id\").agg(\n",
    "    F.sum(\"Duration\").alias(\"total_ride_time\"),\n",
    "    F.sum(\"idle_time\").alias(\"total_idle_time\")\n",
    ")\n",
    "\n",
    "util_df = util_df.withColumn(\n",
    "    \"utilization\",\n",
    "    F.col(\"total_ride_time\") / (F.col(\"total_ride_time\") + F.col(\"total_idle_time\"))\n",
    ")\n",
    "\n",
    "print(\"=== Utilization per Taxi ===\")\n",
    "util_df.show(10, truncate=False)"
   ]
  },
  {
   "cell_type": "markdown",
   "metadata": {},
   "source": [
    "### 7.2 Query 2: Average Time to Find Next Fare per Destination Borough\n",
    "1. Again use a window by `taxi_id` to access the **next** trip's pickup time.  \n",
    "2. Compute `time_to_next_fare = next_pickup_ts - dropoff_ts` (if <= 4 hours).  \n",
    "3. Group by `dropoff_borough` to get the average."
   ]
  },
  {
   "cell_type": "code",
   "execution_count": 73,
   "metadata": {},
   "outputs": [
    {
     "name": "stdout",
     "output_type": "stream",
     "text": [
      "=== Average Time to Find Next Fare per Destination Borough ===\n",
      "+---------------+---------------------+\n",
      "|dropoff_borough|avg_time_to_next_fare|\n",
      "+---------------+---------------------+\n",
      "|Queens         |7290.0               |\n",
      "|Unknown        |8720.0               |\n",
      "|Brooklyn       |3420.0               |\n",
      "|Manhattan      |4037.3333333333335   |\n",
      "+---------------+---------------------+\n",
      "\n"
     ]
    },
    {
     "name": "stderr",
     "output_type": "stream",
     "text": [
      "                                                                                \r"
     ]
    }
   ],
   "source": [
    "w2 = Window.partitionBy(\"taxi_id\").orderBy(\"pickup_ts\")\n",
    "\n",
    "df = df.withColumn(\"next_pickup_ts\", F.lead(\"pickup_ts\").over(w2))\n",
    "\n",
    "df = df.withColumn(\n",
    "    \"time_to_next_fare\",\n",
    "    F.when(\n",
    "        (F.col(\"next_pickup_ts\") - F.col(\"dropoff_ts\") <= 4*3600) &\n",
    "        (F.col(\"next_pickup_ts\") - F.col(\"dropoff_ts\") >= 0),\n",
    "        F.col(\"next_pickup_ts\") - F.col(\"dropoff_ts\")\n",
    "    ).otherwise(F.lit(None))\n",
    ")\n",
    "\n",
    "wait_time_df = df.groupBy(\"dropoff_borough\") \\\n",
    "    .agg(F.avg(\"time_to_next_fare\").alias(\"avg_time_to_next_fare\"))\n",
    "\n",
    "print(\"=== Average Time to Find Next Fare per Destination Borough ===\")\n",
    "wait_time_df.show(10, truncate=False)"
   ]
  },
  {
   "cell_type": "markdown",
   "metadata": {},
   "source": [
    "### 7.3 Query 3: Number of Trips that Started and Ended in the Same Borough"
   ]
  },
  {
   "cell_type": "code",
   "execution_count": 74,
   "metadata": {},
   "outputs": [
    {
     "name": "stdout",
     "output_type": "stream",
     "text": [
      "Number of trips that start and end in the same borough: 201\n"
     ]
    }
   ],
   "source": [
    "same_borough_count = df.filter(\n",
    "    F.col(\"pickup_borough\") == F.col(\"dropoff_borough\")\n",
    ").count()\n",
    "\n",
    "print(\"Number of trips that start and end in the same borough:\", same_borough_count)"
   ]
  },
  {
   "cell_type": "markdown",
   "metadata": {},
   "source": [
    "### 7.4 Query 4: Number of Trips that Started in One Borough and Ended in Another"
   ]
  },
  {
   "cell_type": "code",
   "execution_count": 76,
   "metadata": {},
   "outputs": [
    {
     "name": "stdout",
     "output_type": "stream",
     "text": [
      "Number of trips that start in one borough and end in another: 40\n"
     ]
    }
   ],
   "source": [
    "diff_borough_count = df.filter(\n",
    "    F.col(\"pickup_borough\") != F.col(\"dropoff_borough\")\n",
    ").count()\n",
    "\n",
    "print(\"Number of trips that start in one borough and end in another:\", diff_borough_count)"
   ]
  },
  {
   "cell_type": "markdown",
   "metadata": {},
   "source": [
    "## 8. Visualizations\n",
    "\n",
    "We’ll demonstrate a bar chart of pickup counts by borough"
   ]
  },
  {
   "cell_type": "code",
   "execution_count": 78,
   "metadata": {},
   "outputs": [
    {
     "data": {
      "image/png": "[encoded data removed]",
      "text/plain": [
       "<Figure size 800x500 with 1 Axes>"
      ]
     },
     "metadata": {},
     "output_type": "display_data"
    }
   ],
   "source": [
    "# 8.1. Bar Chart: Number of Pickups by Borough\n",
    "pickup_counts_spark = df.groupBy(\"pickup_borough\").count()\n",
    "\n",
    "# Convert to Pandas (collecting small aggregated data is typically fine)\n",
    "pickup_counts_pdf = pickup_counts_spark.toPandas()\n",
    "\n",
    "plt.figure(figsize=(8, 5))\n",
    "sns.barplot(data=pickup_counts_pdf, x=\"pickup_borough\", y=\"count\")\n",
    "plt.title(\"Number of Pickups by Borough\")\n",
    "plt.xticks(rotation=45)\n",
    "plt.tight_layout()\n",
    "plt.show()"
   ]
  },
  {
   "cell_type": "markdown",
   "metadata": {},
   "source": [
    "## 9. Conclusion\n",
    "\n",
    "We have:\n",
    "- Loaded and cleansed NYC Taxi data\n",
    "- Enriched it with borough information (pickup and dropoff)\n",
    "- Computed key metrics:\n",
    "  - Utilization per taxi\n",
    "  - Average wait time for next fare\n",
    "  - Same vs. different borough trip counts\n",
    "- Created basic visualizations (bar chart, histogram)\n",
    "\n",
    "This framework can be extended for deeper analyses or more sophisticated visualizations.\n"
   ]
  },
  {
   "cell_type": "markdown",
   "metadata": {},
   "source": []
  }
 ],
 "metadata": {
  "kernelspec": {
   "display_name": "base",
   "language": "python",
   "name": "python3"
  },
  "language_info": {
   "codemirror_mode": {
    "name": "ipython",
    "version": 3
   },
   "file_extension": ".py",
   "mimetype": "text/x-python",
   "name": "python",
   "nbconvert_exporter": "python",
   "pygments_lexer": "ipython3",
   "version": "3.12.7"
  }
 },
 "nbformat": 4,
 "nbformat_minor": 2
}
