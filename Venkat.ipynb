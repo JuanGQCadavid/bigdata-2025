{
 "cells": [
  {
   "cell_type": "code",
   "execution_count": 1,
   "id": "9bde55b7-b121-48b7-988f-b9399fa6bed9",
   "metadata": {},
   "outputs": [],
   "source": [
    "from pyspark.sql import SparkSession\n",
    "\n",
    "spark = SparkSession.builder\\\n",
    "    .master('local') \\\n",
    "    .appName('nyctaxi') \\\n",
    "    .getOrCreate()"
   ]
  },
  {
   "cell_type": "code",
   "execution_count": 2,
   "id": "8aac650c-cddb-4dde-99ab-c57236a4be5f",
   "metadata": {},
   "outputs": [],
   "source": [
    "df = (spark.read\n",
    "          .option(\"header\", True)\n",
    "          .option(\"inferSchema\", True)\n",
    "          .csv(\"sample/Sample NYC Data.csv\")\n",
    ")"
   ]
  },
  {
   "cell_type": "code",
   "execution_count": 3,
   "id": "a78523d9-8134-4afd-bfd0-9d9844647d5e",
   "metadata": {},
   "outputs": [],
   "source": [
    "spark.conf.set(\"spark.sql.repl.eagerEval.enabled\",True) #OK for exploration, not great for performance"
   ]
  },
  {
   "cell_type": "code",
   "execution_count": 4,
   "id": "1d907df7-0467-4ff1-b093-2ef85a11ab7f",
   "metadata": {},
   "outputs": [
    {
     "data": {
      "text/html": [
       "<table border='1'>\n",
       "<tr><th>medallion</th><th>hack_license</th><th>vendor_id</th><th>rate_code</th><th>store_and_fwd_flag</th><th>pickup_datetime</th><th>dropoff_datetime</th><th>passenger_count</th><th>pickup_longitude</th><th>pickup_latitude</th><th>dropoff_longitude</th><th>dropoff_latitude</th></tr>\n",
       "<tr><td>89D227B655E5C82AE...</td><td>BA96DE419E711691B...</td><td>CMT</td><td>1</td><td>N</td><td>01-01-13 15:11</td><td>01-01-13 15:18</td><td>4</td><td>-73.978165</td><td>40.757977</td><td>-73.989838</td><td>40.751171</td></tr>\n",
       "<tr><td>0BD7C8F5BA12B88E0...</td><td>9FD8F69F0804BDB55...</td><td>CMT</td><td>1</td><td>N</td><td>06-01-13 00:18</td><td>06-01-13 00:22</td><td>1</td><td>-74.006683</td><td>40.731781</td><td>-73.994499</td><td>40.75066</td></tr>\n",
       "<tr><td>0BD7C8F5BA12B88E0...</td><td>9FD8F69F0804BDB55...</td><td>CMT</td><td>1</td><td>N</td><td>05-01-13 18:49</td><td>05-01-13 18:54</td><td>1</td><td>-74.004707</td><td>40.73777</td><td>-74.009834</td><td>40.726002</td></tr>\n",
       "<tr><td>DFD2202EE08F7A8DC...</td><td>51EE87E3205C985EF...</td><td>CMT</td><td>1</td><td>N</td><td>07-01-13 23:54</td><td>07-01-13 23:58</td><td>2</td><td>-73.974602</td><td>40.759945</td><td>-73.984734</td><td>40.759388</td></tr>\n",
       "<tr><td>DFD2202EE08F7A8DC...</td><td>51EE87E3205C985EF...</td><td>CMT</td><td>1</td><td>N</td><td>07-01-13 23:25</td><td>07-01-13 23:34</td><td>1</td><td>-73.97625</td><td>40.748528</td><td>-74.002586</td><td>40.747868</td></tr>\n",
       "<tr><td>20D9ECB2CA0767CF7...</td><td>598CCE5B9C1918568...</td><td>CMT</td><td>1</td><td>N</td><td>07-01-13 15:27</td><td>07-01-13 15:38</td><td>1</td><td>-73.966743</td><td>40.764252</td><td>-73.983322</td><td>40.743763</td></tr>\n",
       "<tr><td>496644932DF393260...</td><td>513189AD756FF14FE...</td><td>CMT</td><td>1</td><td>N</td><td>08-01-13 11:01</td><td>08-01-13 11:08</td><td>1</td><td>-73.995804</td><td>40.743977</td><td>-74.007416</td><td>40.744343</td></tr>\n",
       "<tr><td>0B57B9633A2FECD3D...</td><td>CCD4367B417ED6634...</td><td>CMT</td><td>1</td><td>N</td><td>07-01-13 12:39</td><td>07-01-13 13:10</td><td>3</td><td>-73.989937</td><td>40.756775</td><td>-73.86525</td><td>40.77063</td></tr>\n",
       "<tr><td>2C0E91FF20A856C89...</td><td>1DA2F6543A62B8ED9...</td><td>CMT</td><td>1</td><td>N</td><td>07-01-13 18:15</td><td>07-01-13 18:20</td><td>1</td><td>-73.980072</td><td>40.743137</td><td>-73.982712</td><td>40.735336</td></tr>\n",
       "<tr><td>2D4B95E2FA7B2E851...</td><td>CD2F522EEE1FF5F5A...</td><td>CMT</td><td>1</td><td>N</td><td>07-01-13 15:33</td><td>07-01-13 15:49</td><td>2</td><td>-73.977936</td><td>40.786983</td><td>-73.952919</td><td>40.80637</td></tr>\n",
       "<tr><td>E12F6AF991172EAC3...</td><td>06918214E951FA000...</td><td>CMT</td><td>1</td><td>N</td><td>08-01-13 13:11</td><td>08-01-13 13:19</td><td>1</td><td>-73.982452</td><td>40.773167</td><td>-73.964134</td><td>40.773815</td></tr>\n",
       "<tr><td>E12F6AF991172EAC3...</td><td>06918214E951FA000...</td><td>CMT</td><td>1</td><td>N</td><td>08-01-13 09:50</td><td>08-01-13 10:02</td><td>1</td><td>-73.99556</td><td>40.749294</td><td>-73.988686</td><td>40.759052</td></tr>\n",
       "<tr><td>78FFD9CD0CDA541F3...</td><td>E949C583ECF62C8F0...</td><td>CMT</td><td>1</td><td>N</td><td>10-01-13 12:07</td><td>10-01-13 12:17</td><td>1</td><td>-73.971497</td><td>40.791321</td><td>-73.964478</td><td>40.775921</td></tr>\n",
       "<tr><td>237F49C3ECC11F502...</td><td>93C363DDF8ED9385D...</td><td>CMT</td><td>1</td><td>N</td><td>07-01-13 07:35</td><td>07-01-13 07:46</td><td>1</td><td>-73.98851</td><td>40.774307</td><td>-73.981094</td><td>40.755325</td></tr>\n",
       "<tr><td>3349F919AA8AE5DC9...</td><td>7CE849FEF67514F08...</td><td>CMT</td><td>1</td><td>N</td><td>10-01-13 15:42</td><td>10-01-13 16:04</td><td>1</td><td>-73.994911</td><td>40.723221</td><td>-73.971558</td><td>40.761612</td></tr>\n",
       "<tr><td>3349F919AA8AE5DC9...</td><td>7CE849FEF67514F08...</td><td>CMT</td><td>1</td><td>N</td><td>10-01-13 14:27</td><td>10-01-13 14:45</td><td>1</td><td>-74.010391</td><td>40.708702</td><td>-73.987846</td><td>40.756104</td></tr>\n",
       "<tr><td>4C005EEBAA7BF26B8...</td><td>351BE7D984BE17DB2...</td><td>CMT</td><td>1</td><td>N</td><td>07-01-13 22:09</td><td>07-01-13 22:19</td><td>1</td><td>-73.973732</td><td>40.756287</td><td>-73.998413</td><td>40.756832</td></tr>\n",
       "<tr><td>7D99C30FCE69B1A9D...</td><td>460C3F57DD9CB2265...</td><td>CMT</td><td>1</td><td>N</td><td>07-01-13 17:18</td><td>07-01-13 17:20</td><td>1</td><td>-73.968925</td><td>40.767704</td><td>-73.96199</td><td>40.776566</td></tr>\n",
       "<tr><td>E6FBF80668FE0611A...</td><td>36773E80775F26CD1...</td><td>CMT</td><td>1</td><td>N</td><td>07-01-13 06:08</td><td>07-01-13 06:13</td><td>1</td><td>-73.96212</td><td>40.769737</td><td>-73.979561</td><td>40.75539</td></tr>\n",
       "<tr><td>0C5296F3C8B16E702...</td><td>D2363240A9295EF57...</td><td>CMT</td><td>1</td><td>N</td><td>07-01-13 22:25</td><td>07-01-13 22:36</td><td>1</td><td>-73.989708</td><td>40.756714</td><td>-73.977615</td><td>40.787575</td></tr>\n",
       "</table>\n",
       "only showing top 20 rows\n"
      ],
      "text/plain": [
       "+--------------------+--------------------+---------+---------+------------------+---------------+----------------+---------------+----------------+---------------+-----------------+----------------+\n",
       "|           medallion|        hack_license|vendor_id|rate_code|store_and_fwd_flag|pickup_datetime|dropoff_datetime|passenger_count|pickup_longitude|pickup_latitude|dropoff_longitude|dropoff_latitude|\n",
       "+--------------------+--------------------+---------+---------+------------------+---------------+----------------+---------------+----------------+---------------+-----------------+----------------+\n",
       "|89D227B655E5C82AE...|BA96DE419E711691B...|      CMT|        1|                 N| 01-01-13 15:11|  01-01-13 15:18|              4|      -73.978165|      40.757977|       -73.989838|       40.751171|\n",
       "|0BD7C8F5BA12B88E0...|9FD8F69F0804BDB55...|      CMT|        1|                 N| 06-01-13 00:18|  06-01-13 00:22|              1|      -74.006683|      40.731781|       -73.994499|        40.75066|\n",
       "|0BD7C8F5BA12B88E0...|9FD8F69F0804BDB55...|      CMT|        1|                 N| 05-01-13 18:49|  05-01-13 18:54|              1|      -74.004707|       40.73777|       -74.009834|       40.726002|\n",
       "|DFD2202EE08F7A8DC...|51EE87E3205C985EF...|      CMT|        1|                 N| 07-01-13 23:54|  07-01-13 23:58|              2|      -73.974602|      40.759945|       -73.984734|       40.759388|\n",
       "|DFD2202EE08F7A8DC...|51EE87E3205C985EF...|      CMT|        1|                 N| 07-01-13 23:25|  07-01-13 23:34|              1|       -73.97625|      40.748528|       -74.002586|       40.747868|\n",
       "|20D9ECB2CA0767CF7...|598CCE5B9C1918568...|      CMT|        1|                 N| 07-01-13 15:27|  07-01-13 15:38|              1|      -73.966743|      40.764252|       -73.983322|       40.743763|\n",
       "|496644932DF393260...|513189AD756FF14FE...|      CMT|        1|                 N| 08-01-13 11:01|  08-01-13 11:08|              1|      -73.995804|      40.743977|       -74.007416|       40.744343|\n",
       "|0B57B9633A2FECD3D...|CCD4367B417ED6634...|      CMT|        1|                 N| 07-01-13 12:39|  07-01-13 13:10|              3|      -73.989937|      40.756775|        -73.86525|        40.77063|\n",
       "|2C0E91FF20A856C89...|1DA2F6543A62B8ED9...|      CMT|        1|                 N| 07-01-13 18:15|  07-01-13 18:20|              1|      -73.980072|      40.743137|       -73.982712|       40.735336|\n",
       "|2D4B95E2FA7B2E851...|CD2F522EEE1FF5F5A...|      CMT|        1|                 N| 07-01-13 15:33|  07-01-13 15:49|              2|      -73.977936|      40.786983|       -73.952919|        40.80637|\n",
       "|E12F6AF991172EAC3...|06918214E951FA000...|      CMT|        1|                 N| 08-01-13 13:11|  08-01-13 13:19|              1|      -73.982452|      40.773167|       -73.964134|       40.773815|\n",
       "|E12F6AF991172EAC3...|06918214E951FA000...|      CMT|        1|                 N| 08-01-13 09:50|  08-01-13 10:02|              1|       -73.99556|      40.749294|       -73.988686|       40.759052|\n",
       "|78FFD9CD0CDA541F3...|E949C583ECF62C8F0...|      CMT|        1|                 N| 10-01-13 12:07|  10-01-13 12:17|              1|      -73.971497|      40.791321|       -73.964478|       40.775921|\n",
       "|237F49C3ECC11F502...|93C363DDF8ED9385D...|      CMT|        1|                 N| 07-01-13 07:35|  07-01-13 07:46|              1|       -73.98851|      40.774307|       -73.981094|       40.755325|\n",
       "|3349F919AA8AE5DC9...|7CE849FEF67514F08...|      CMT|        1|                 N| 10-01-13 15:42|  10-01-13 16:04|              1|      -73.994911|      40.723221|       -73.971558|       40.761612|\n",
       "|3349F919AA8AE5DC9...|7CE849FEF67514F08...|      CMT|        1|                 N| 10-01-13 14:27|  10-01-13 14:45|              1|      -74.010391|      40.708702|       -73.987846|       40.756104|\n",
       "|4C005EEBAA7BF26B8...|351BE7D984BE17DB2...|      CMT|        1|                 N| 07-01-13 22:09|  07-01-13 22:19|              1|      -73.973732|      40.756287|       -73.998413|       40.756832|\n",
       "|7D99C30FCE69B1A9D...|460C3F57DD9CB2265...|      CMT|        1|                 N| 07-01-13 17:18|  07-01-13 17:20|              1|      -73.968925|      40.767704|        -73.96199|       40.776566|\n",
       "|E6FBF80668FE0611A...|36773E80775F26CD1...|      CMT|        1|                 N| 07-01-13 06:08|  07-01-13 06:13|              1|       -73.96212|      40.769737|       -73.979561|        40.75539|\n",
       "|0C5296F3C8B16E702...|D2363240A9295EF57...|      CMT|        1|                 N| 07-01-13 22:25|  07-01-13 22:36|              1|      -73.989708|      40.756714|       -73.977615|       40.787575|\n",
       "+--------------------+--------------------+---------+---------+------------------+---------------+----------------+---------------+----------------+---------------+-----------------+----------------+\n",
       "only showing top 20 rows"
      ]
     },
     "execution_count": 4,
     "metadata": {},
     "output_type": "execute_result"
    }
   ],
   "source": [
    "df"
   ]
  },
  {
   "cell_type": "code",
   "execution_count": 5,
   "id": "f561e170-916a-4654-a015-4c19ce320b84",
   "metadata": {},
   "outputs": [
    {
     "name": "stdout",
     "output_type": "stream",
     "text": [
      "root\n",
      " |-- medallion: string (nullable = true)\n",
      " |-- hack_license: string (nullable = true)\n",
      " |-- vendor_id: string (nullable = true)\n",
      " |-- rate_code: integer (nullable = true)\n",
      " |-- store_and_fwd_flag: string (nullable = true)\n",
      " |-- pickup_datetime: string (nullable = true)\n",
      " |-- dropoff_datetime: string (nullable = true)\n",
      " |-- passenger_count: integer (nullable = true)\n",
      " |-- pickup_longitude: double (nullable = true)\n",
      " |-- pickup_latitude: double (nullable = true)\n",
      " |-- dropoff_longitude: double (nullable = true)\n",
      " |-- dropoff_latitude: double (nullable = true)\n",
      "\n"
     ]
    }
   ],
   "source": [
    "df.printSchema()"
   ]
  },
  {
   "cell_type": "code",
   "execution_count": 6,
   "id": "ba1d8f0a-073f-4d15-a6fc-67b5d7092730",
   "metadata": {},
   "outputs": [],
   "source": [
    "import pyspark.sql.functions as F\n",
    "\n",
    "#selecting few important columns into new df\n",
    "taxi_df = df.select(\n",
    "    F.col(\"hack_license\"), \n",
    "    F.col(\"passenger_count\"),\n",
    "    F.col(\"pickup_datetime\"),\n",
    "    F.col(\"pickup_longitude\"),\n",
    "    F.col(\"pickup_latitude\"),\n",
    "    F.col(\"dropoff_datetime\"),\n",
    "    F.col(\"dropoff_longitude\"),\n",
    "    F.col(\"dropoff_latitude\")\n",
    ")"
   ]
  },
  {
   "cell_type": "code",
   "execution_count": 7,
   "id": "3f401599-f9ce-4862-b3be-8276dcbd4ba4",
   "metadata": {},
   "outputs": [
    {
     "data": {
      "text/html": [
       "<table border='1'>\n",
       "<tr><th>hack_license</th><th>passenger_count</th><th>pickup_datetime</th><th>pickup_longitude</th><th>pickup_latitude</th><th>dropoff_datetime</th><th>dropoff_longitude</th><th>dropoff_latitude</th></tr>\n",
       "<tr><td>BA96DE419E711691B...</td><td>4</td><td>01-01-13 15:11</td><td>-73.978165</td><td>40.757977</td><td>01-01-13 15:18</td><td>-73.989838</td><td>40.751171</td></tr>\n",
       "<tr><td>9FD8F69F0804BDB55...</td><td>1</td><td>06-01-13 00:18</td><td>-74.006683</td><td>40.731781</td><td>06-01-13 00:22</td><td>-73.994499</td><td>40.75066</td></tr>\n",
       "<tr><td>9FD8F69F0804BDB55...</td><td>1</td><td>05-01-13 18:49</td><td>-74.004707</td><td>40.73777</td><td>05-01-13 18:54</td><td>-74.009834</td><td>40.726002</td></tr>\n",
       "<tr><td>51EE87E3205C985EF...</td><td>2</td><td>07-01-13 23:54</td><td>-73.974602</td><td>40.759945</td><td>07-01-13 23:58</td><td>-73.984734</td><td>40.759388</td></tr>\n",
       "<tr><td>51EE87E3205C985EF...</td><td>1</td><td>07-01-13 23:25</td><td>-73.97625</td><td>40.748528</td><td>07-01-13 23:34</td><td>-74.002586</td><td>40.747868</td></tr>\n",
       "<tr><td>598CCE5B9C1918568...</td><td>1</td><td>07-01-13 15:27</td><td>-73.966743</td><td>40.764252</td><td>07-01-13 15:38</td><td>-73.983322</td><td>40.743763</td></tr>\n",
       "<tr><td>513189AD756FF14FE...</td><td>1</td><td>08-01-13 11:01</td><td>-73.995804</td><td>40.743977</td><td>08-01-13 11:08</td><td>-74.007416</td><td>40.744343</td></tr>\n",
       "<tr><td>CCD4367B417ED6634...</td><td>3</td><td>07-01-13 12:39</td><td>-73.989937</td><td>40.756775</td><td>07-01-13 13:10</td><td>-73.86525</td><td>40.77063</td></tr>\n",
       "<tr><td>1DA2F6543A62B8ED9...</td><td>1</td><td>07-01-13 18:15</td><td>-73.980072</td><td>40.743137</td><td>07-01-13 18:20</td><td>-73.982712</td><td>40.735336</td></tr>\n",
       "<tr><td>CD2F522EEE1FF5F5A...</td><td>2</td><td>07-01-13 15:33</td><td>-73.977936</td><td>40.786983</td><td>07-01-13 15:49</td><td>-73.952919</td><td>40.80637</td></tr>\n",
       "<tr><td>06918214E951FA000...</td><td>1</td><td>08-01-13 13:11</td><td>-73.982452</td><td>40.773167</td><td>08-01-13 13:19</td><td>-73.964134</td><td>40.773815</td></tr>\n",
       "<tr><td>06918214E951FA000...</td><td>1</td><td>08-01-13 09:50</td><td>-73.99556</td><td>40.749294</td><td>08-01-13 10:02</td><td>-73.988686</td><td>40.759052</td></tr>\n",
       "<tr><td>E949C583ECF62C8F0...</td><td>1</td><td>10-01-13 12:07</td><td>-73.971497</td><td>40.791321</td><td>10-01-13 12:17</td><td>-73.964478</td><td>40.775921</td></tr>\n",
       "<tr><td>93C363DDF8ED9385D...</td><td>1</td><td>07-01-13 07:35</td><td>-73.98851</td><td>40.774307</td><td>07-01-13 07:46</td><td>-73.981094</td><td>40.755325</td></tr>\n",
       "<tr><td>7CE849FEF67514F08...</td><td>1</td><td>10-01-13 15:42</td><td>-73.994911</td><td>40.723221</td><td>10-01-13 16:04</td><td>-73.971558</td><td>40.761612</td></tr>\n",
       "<tr><td>7CE849FEF67514F08...</td><td>1</td><td>10-01-13 14:27</td><td>-74.010391</td><td>40.708702</td><td>10-01-13 14:45</td><td>-73.987846</td><td>40.756104</td></tr>\n",
       "<tr><td>351BE7D984BE17DB2...</td><td>1</td><td>07-01-13 22:09</td><td>-73.973732</td><td>40.756287</td><td>07-01-13 22:19</td><td>-73.998413</td><td>40.756832</td></tr>\n",
       "<tr><td>460C3F57DD9CB2265...</td><td>1</td><td>07-01-13 17:18</td><td>-73.968925</td><td>40.767704</td><td>07-01-13 17:20</td><td>-73.96199</td><td>40.776566</td></tr>\n",
       "<tr><td>36773E80775F26CD1...</td><td>1</td><td>07-01-13 06:08</td><td>-73.96212</td><td>40.769737</td><td>07-01-13 06:13</td><td>-73.979561</td><td>40.75539</td></tr>\n",
       "<tr><td>D2363240A9295EF57...</td><td>1</td><td>07-01-13 22:25</td><td>-73.989708</td><td>40.756714</td><td>07-01-13 22:36</td><td>-73.977615</td><td>40.787575</td></tr>\n",
       "</table>\n",
       "only showing top 20 rows\n"
      ],
      "text/plain": [
       "+--------------------+---------------+---------------+----------------+---------------+----------------+-----------------+----------------+\n",
       "|        hack_license|passenger_count|pickup_datetime|pickup_longitude|pickup_latitude|dropoff_datetime|dropoff_longitude|dropoff_latitude|\n",
       "+--------------------+---------------+---------------+----------------+---------------+----------------+-----------------+----------------+\n",
       "|BA96DE419E711691B...|              4| 01-01-13 15:11|      -73.978165|      40.757977|  01-01-13 15:18|       -73.989838|       40.751171|\n",
       "|9FD8F69F0804BDB55...|              1| 06-01-13 00:18|      -74.006683|      40.731781|  06-01-13 00:22|       -73.994499|        40.75066|\n",
       "|9FD8F69F0804BDB55...|              1| 05-01-13 18:49|      -74.004707|       40.73777|  05-01-13 18:54|       -74.009834|       40.726002|\n",
       "|51EE87E3205C985EF...|              2| 07-01-13 23:54|      -73.974602|      40.759945|  07-01-13 23:58|       -73.984734|       40.759388|\n",
       "|51EE87E3205C985EF...|              1| 07-01-13 23:25|       -73.97625|      40.748528|  07-01-13 23:34|       -74.002586|       40.747868|\n",
       "|598CCE5B9C1918568...|              1| 07-01-13 15:27|      -73.966743|      40.764252|  07-01-13 15:38|       -73.983322|       40.743763|\n",
       "|513189AD756FF14FE...|              1| 08-01-13 11:01|      -73.995804|      40.743977|  08-01-13 11:08|       -74.007416|       40.744343|\n",
       "|CCD4367B417ED6634...|              3| 07-01-13 12:39|      -73.989937|      40.756775|  07-01-13 13:10|        -73.86525|        40.77063|\n",
       "|1DA2F6543A62B8ED9...|              1| 07-01-13 18:15|      -73.980072|      40.743137|  07-01-13 18:20|       -73.982712|       40.735336|\n",
       "|CD2F522EEE1FF5F5A...|              2| 07-01-13 15:33|      -73.977936|      40.786983|  07-01-13 15:49|       -73.952919|        40.80637|\n",
       "|06918214E951FA000...|              1| 08-01-13 13:11|      -73.982452|      40.773167|  08-01-13 13:19|       -73.964134|       40.773815|\n",
       "|06918214E951FA000...|              1| 08-01-13 09:50|       -73.99556|      40.749294|  08-01-13 10:02|       -73.988686|       40.759052|\n",
       "|E949C583ECF62C8F0...|              1| 10-01-13 12:07|      -73.971497|      40.791321|  10-01-13 12:17|       -73.964478|       40.775921|\n",
       "|93C363DDF8ED9385D...|              1| 07-01-13 07:35|       -73.98851|      40.774307|  07-01-13 07:46|       -73.981094|       40.755325|\n",
       "|7CE849FEF67514F08...|              1| 10-01-13 15:42|      -73.994911|      40.723221|  10-01-13 16:04|       -73.971558|       40.761612|\n",
       "|7CE849FEF67514F08...|              1| 10-01-13 14:27|      -74.010391|      40.708702|  10-01-13 14:45|       -73.987846|       40.756104|\n",
       "|351BE7D984BE17DB2...|              1| 07-01-13 22:09|      -73.973732|      40.756287|  07-01-13 22:19|       -73.998413|       40.756832|\n",
       "|460C3F57DD9CB2265...|              1| 07-01-13 17:18|      -73.968925|      40.767704|  07-01-13 17:20|        -73.96199|       40.776566|\n",
       "|36773E80775F26CD1...|              1| 07-01-13 06:08|       -73.96212|      40.769737|  07-01-13 06:13|       -73.979561|        40.75539|\n",
       "|D2363240A9295EF57...|              1| 07-01-13 22:25|      -73.989708|      40.756714|  07-01-13 22:36|       -73.977615|       40.787575|\n",
       "+--------------------+---------------+---------------+----------------+---------------+----------------+-----------------+----------------+\n",
       "only showing top 20 rows"
      ]
     },
     "execution_count": 7,
     "metadata": {},
     "output_type": "execute_result"
    }
   ],
   "source": [
    "taxi_df"
   ]
  },
  {
   "cell_type": "code",
   "execution_count": 8,
   "id": "601ce842-d6d7-4b7c-bc29-29e2ac9b1c98",
   "metadata": {},
   "outputs": [],
   "source": [
    "import json\n",
    "from shapely.geometry import shape, Point\n",
    "from pyspark.sql.types import StringType\n",
    "from pyspark.sql.functions import udf, col\n",
    "\n",
    "# Load GeoJSON file\n",
    "geojson_path = \"input/nyc-boroughs.geojson\"\n",
    "with open(geojson_path, \"r\") as f:\n",
    "    geojson_data = json.load(f)"
   ]
  },
  {
   "cell_type": "code",
   "execution_count": 9,
   "id": "aaa33e2a-1707-498d-9502-6b5bee97d681",
   "metadata": {},
   "outputs": [],
   "source": [
    "# Extract and sort boroughs by size (descending) and borough code\n",
    "boroughs = []\n",
    "for feature in geojson_data[\"features\"]:\n",
    "    borough_code = feature[\"properties\"][\"boroughCode\"]\n",
    "    polygon = shape(feature[\"geometry\"])\n",
    "    borough_name = feature[\"properties\"][\"borough\"]\n",
    "    boroughs.append((borough_code, polygon, borough_name))"
   ]
  },
  {
   "cell_type": "code",
   "execution_count": 10,
   "id": "b9d6881a-82ca-4ee3-93a8-ee7bb8d43933",
   "metadata": {},
   "outputs": [],
   "source": [
    "# Sort by borough code (Manhattan=1, Staten Island=5) and polygon area\n",
    "boroughs.sort(key=lambda x: (x[0], -x[1].area))"
   ]
  },
  {
   "cell_type": "code",
   "execution_count": 11,
   "id": "72b859b5-517c-401d-9e04-7358caddc72c",
   "metadata": {},
   "outputs": [],
   "source": [
    "# Function to find the borough for a given lat/lon\n",
    "def find_borough(lat, lon):\n",
    "    point = Point(lon, lat)\n",
    "    for _, polygon, borough in boroughs:\n",
    "        if polygon.contains(point):\n",
    "            return borough\n",
    "    return \"Unknown\""
   ]
  },
  {
   "cell_type": "code",
   "execution_count": 12,
   "id": "60b643f2-db22-4d5c-94fe-04e870b72f3b",
   "metadata": {},
   "outputs": [],
   "source": [
    "# Register UDF\n",
    "find_borough_udf = udf(find_borough, StringType())"
   ]
  },
  {
   "cell_type": "code",
   "execution_count": 13,
   "id": "59e0fe1b-49eb-4ef0-9db4-10cd33881ceb",
   "metadata": {},
   "outputs": [],
   "source": [
    "# Enrich taxi data with boroughs\n",
    "taxi_df = taxi_df.withColumn(\"pickup_borough\", find_borough_udf(col(\"pickup_latitude\"), col(\"pickup_longitude\"))) \\\n",
    "                 .withColumn(\"dropoff_borough\", find_borough_udf(col(\"dropoff_latitude\"), col(\"dropoff_longitude\")))"
   ]
  },
  {
   "cell_type": "code",
   "execution_count": 14,
   "id": "9f655070-16d0-42b7-92de-f5f9d35f5eb7",
   "metadata": {},
   "outputs": [
    {
     "data": {
      "text/html": [
       "<table border='1'>\n",
       "<tr><th>hack_license</th><th>passenger_count</th><th>pickup_datetime</th><th>pickup_longitude</th><th>pickup_latitude</th><th>dropoff_datetime</th><th>dropoff_longitude</th><th>dropoff_latitude</th><th>pickup_borough</th><th>dropoff_borough</th></tr>\n",
       "<tr><td>BA96DE419E711691B...</td><td>4</td><td>01-01-13 15:11</td><td>-73.978165</td><td>40.757977</td><td>01-01-13 15:18</td><td>-73.989838</td><td>40.751171</td><td>Manhattan</td><td>Manhattan</td></tr>\n",
       "<tr><td>9FD8F69F0804BDB55...</td><td>1</td><td>06-01-13 00:18</td><td>-74.006683</td><td>40.731781</td><td>06-01-13 00:22</td><td>-73.994499</td><td>40.75066</td><td>Manhattan</td><td>Manhattan</td></tr>\n",
       "<tr><td>9FD8F69F0804BDB55...</td><td>1</td><td>05-01-13 18:49</td><td>-74.004707</td><td>40.73777</td><td>05-01-13 18:54</td><td>-74.009834</td><td>40.726002</td><td>Manhattan</td><td>Manhattan</td></tr>\n",
       "<tr><td>51EE87E3205C985EF...</td><td>2</td><td>07-01-13 23:54</td><td>-73.974602</td><td>40.759945</td><td>07-01-13 23:58</td><td>-73.984734</td><td>40.759388</td><td>Manhattan</td><td>Manhattan</td></tr>\n",
       "<tr><td>51EE87E3205C985EF...</td><td>1</td><td>07-01-13 23:25</td><td>-73.97625</td><td>40.748528</td><td>07-01-13 23:34</td><td>-74.002586</td><td>40.747868</td><td>Manhattan</td><td>Manhattan</td></tr>\n",
       "<tr><td>598CCE5B9C1918568...</td><td>1</td><td>07-01-13 15:27</td><td>-73.966743</td><td>40.764252</td><td>07-01-13 15:38</td><td>-73.983322</td><td>40.743763</td><td>Manhattan</td><td>Manhattan</td></tr>\n",
       "<tr><td>513189AD756FF14FE...</td><td>1</td><td>08-01-13 11:01</td><td>-73.995804</td><td>40.743977</td><td>08-01-13 11:08</td><td>-74.007416</td><td>40.744343</td><td>Manhattan</td><td>Manhattan</td></tr>\n",
       "<tr><td>CCD4367B417ED6634...</td><td>3</td><td>07-01-13 12:39</td><td>-73.989937</td><td>40.756775</td><td>07-01-13 13:10</td><td>-73.86525</td><td>40.77063</td><td>Manhattan</td><td>Queens</td></tr>\n",
       "<tr><td>1DA2F6543A62B8ED9...</td><td>1</td><td>07-01-13 18:15</td><td>-73.980072</td><td>40.743137</td><td>07-01-13 18:20</td><td>-73.982712</td><td>40.735336</td><td>Manhattan</td><td>Manhattan</td></tr>\n",
       "<tr><td>CD2F522EEE1FF5F5A...</td><td>2</td><td>07-01-13 15:33</td><td>-73.977936</td><td>40.786983</td><td>07-01-13 15:49</td><td>-73.952919</td><td>40.80637</td><td>Manhattan</td><td>Manhattan</td></tr>\n",
       "<tr><td>06918214E951FA000...</td><td>1</td><td>08-01-13 13:11</td><td>-73.982452</td><td>40.773167</td><td>08-01-13 13:19</td><td>-73.964134</td><td>40.773815</td><td>Manhattan</td><td>Manhattan</td></tr>\n",
       "<tr><td>06918214E951FA000...</td><td>1</td><td>08-01-13 09:50</td><td>-73.99556</td><td>40.749294</td><td>08-01-13 10:02</td><td>-73.988686</td><td>40.759052</td><td>Manhattan</td><td>Manhattan</td></tr>\n",
       "<tr><td>E949C583ECF62C8F0...</td><td>1</td><td>10-01-13 12:07</td><td>-73.971497</td><td>40.791321</td><td>10-01-13 12:17</td><td>-73.964478</td><td>40.775921</td><td>Manhattan</td><td>Manhattan</td></tr>\n",
       "<tr><td>93C363DDF8ED9385D...</td><td>1</td><td>07-01-13 07:35</td><td>-73.98851</td><td>40.774307</td><td>07-01-13 07:46</td><td>-73.981094</td><td>40.755325</td><td>Manhattan</td><td>Manhattan</td></tr>\n",
       "<tr><td>7CE849FEF67514F08...</td><td>1</td><td>10-01-13 15:42</td><td>-73.994911</td><td>40.723221</td><td>10-01-13 16:04</td><td>-73.971558</td><td>40.761612</td><td>Manhattan</td><td>Manhattan</td></tr>\n",
       "<tr><td>7CE849FEF67514F08...</td><td>1</td><td>10-01-13 14:27</td><td>-74.010391</td><td>40.708702</td><td>10-01-13 14:45</td><td>-73.987846</td><td>40.756104</td><td>Manhattan</td><td>Manhattan</td></tr>\n",
       "<tr><td>351BE7D984BE17DB2...</td><td>1</td><td>07-01-13 22:09</td><td>-73.973732</td><td>40.756287</td><td>07-01-13 22:19</td><td>-73.998413</td><td>40.756832</td><td>Manhattan</td><td>Manhattan</td></tr>\n",
       "<tr><td>460C3F57DD9CB2265...</td><td>1</td><td>07-01-13 17:18</td><td>-73.968925</td><td>40.767704</td><td>07-01-13 17:20</td><td>-73.96199</td><td>40.776566</td><td>Manhattan</td><td>Manhattan</td></tr>\n",
       "<tr><td>36773E80775F26CD1...</td><td>1</td><td>07-01-13 06:08</td><td>-73.96212</td><td>40.769737</td><td>07-01-13 06:13</td><td>-73.979561</td><td>40.75539</td><td>Manhattan</td><td>Manhattan</td></tr>\n",
       "<tr><td>D2363240A9295EF57...</td><td>1</td><td>07-01-13 22:25</td><td>-73.989708</td><td>40.756714</td><td>07-01-13 22:36</td><td>-73.977615</td><td>40.787575</td><td>Manhattan</td><td>Manhattan</td></tr>\n",
       "</table>\n",
       "only showing top 20 rows\n"
      ],
      "text/plain": [
       "+--------------------+---------------+---------------+----------------+---------------+----------------+-----------------+----------------+--------------+---------------+\n",
       "|        hack_license|passenger_count|pickup_datetime|pickup_longitude|pickup_latitude|dropoff_datetime|dropoff_longitude|dropoff_latitude|pickup_borough|dropoff_borough|\n",
       "+--------------------+---------------+---------------+----------------+---------------+----------------+-----------------+----------------+--------------+---------------+\n",
       "|BA96DE419E711691B...|              4| 01-01-13 15:11|      -73.978165|      40.757977|  01-01-13 15:18|       -73.989838|       40.751171|     Manhattan|      Manhattan|\n",
       "|9FD8F69F0804BDB55...|              1| 06-01-13 00:18|      -74.006683|      40.731781|  06-01-13 00:22|       -73.994499|        40.75066|     Manhattan|      Manhattan|\n",
       "|9FD8F69F0804BDB55...|              1| 05-01-13 18:49|      -74.004707|       40.73777|  05-01-13 18:54|       -74.009834|       40.726002|     Manhattan|      Manhattan|\n",
       "|51EE87E3205C985EF...|              2| 07-01-13 23:54|      -73.974602|      40.759945|  07-01-13 23:58|       -73.984734|       40.759388|     Manhattan|      Manhattan|\n",
       "|51EE87E3205C985EF...|              1| 07-01-13 23:25|       -73.97625|      40.748528|  07-01-13 23:34|       -74.002586|       40.747868|     Manhattan|      Manhattan|\n",
       "|598CCE5B9C1918568...|              1| 07-01-13 15:27|      -73.966743|      40.764252|  07-01-13 15:38|       -73.983322|       40.743763|     Manhattan|      Manhattan|\n",
       "|513189AD756FF14FE...|              1| 08-01-13 11:01|      -73.995804|      40.743977|  08-01-13 11:08|       -74.007416|       40.744343|     Manhattan|      Manhattan|\n",
       "|CCD4367B417ED6634...|              3| 07-01-13 12:39|      -73.989937|      40.756775|  07-01-13 13:10|        -73.86525|        40.77063|     Manhattan|         Queens|\n",
       "|1DA2F6543A62B8ED9...|              1| 07-01-13 18:15|      -73.980072|      40.743137|  07-01-13 18:20|       -73.982712|       40.735336|     Manhattan|      Manhattan|\n",
       "|CD2F522EEE1FF5F5A...|              2| 07-01-13 15:33|      -73.977936|      40.786983|  07-01-13 15:49|       -73.952919|        40.80637|     Manhattan|      Manhattan|\n",
       "|06918214E951FA000...|              1| 08-01-13 13:11|      -73.982452|      40.773167|  08-01-13 13:19|       -73.964134|       40.773815|     Manhattan|      Manhattan|\n",
       "|06918214E951FA000...|              1| 08-01-13 09:50|       -73.99556|      40.749294|  08-01-13 10:02|       -73.988686|       40.759052|     Manhattan|      Manhattan|\n",
       "|E949C583ECF62C8F0...|              1| 10-01-13 12:07|      -73.971497|      40.791321|  10-01-13 12:17|       -73.964478|       40.775921|     Manhattan|      Manhattan|\n",
       "|93C363DDF8ED9385D...|              1| 07-01-13 07:35|       -73.98851|      40.774307|  07-01-13 07:46|       -73.981094|       40.755325|     Manhattan|      Manhattan|\n",
       "|7CE849FEF67514F08...|              1| 10-01-13 15:42|      -73.994911|      40.723221|  10-01-13 16:04|       -73.971558|       40.761612|     Manhattan|      Manhattan|\n",
       "|7CE849FEF67514F08...|              1| 10-01-13 14:27|      -74.010391|      40.708702|  10-01-13 14:45|       -73.987846|       40.756104|     Manhattan|      Manhattan|\n",
       "|351BE7D984BE17DB2...|              1| 07-01-13 22:09|      -73.973732|      40.756287|  07-01-13 22:19|       -73.998413|       40.756832|     Manhattan|      Manhattan|\n",
       "|460C3F57DD9CB2265...|              1| 07-01-13 17:18|      -73.968925|      40.767704|  07-01-13 17:20|        -73.96199|       40.776566|     Manhattan|      Manhattan|\n",
       "|36773E80775F26CD1...|              1| 07-01-13 06:08|       -73.96212|      40.769737|  07-01-13 06:13|       -73.979561|        40.75539|     Manhattan|      Manhattan|\n",
       "|D2363240A9295EF57...|              1| 07-01-13 22:25|      -73.989708|      40.756714|  07-01-13 22:36|       -73.977615|       40.787575|     Manhattan|      Manhattan|\n",
       "+--------------------+---------------+---------------+----------------+---------------+----------------+-----------------+----------------+--------------+---------------+\n",
       "only showing top 20 rows"
      ]
     },
     "execution_count": 14,
     "metadata": {},
     "output_type": "execute_result"
    }
   ],
   "source": [
    "taxi_df"
   ]
  },
  {
   "cell_type": "code",
   "execution_count": null,
   "id": "230c9b6d-28bc-4d95-a057-ed68e4b9b348",
   "metadata": {},
   "outputs": [],
   "source": []
  },
  {
   "cell_type": "code",
   "execution_count": null,
   "id": "ebce31c3-bff3-4b86-a5ef-1865dc84925b",
   "metadata": {},
   "outputs": [],
   "source": []
  },
  {
   "cell_type": "code",
   "execution_count": null,
   "id": "67ce5751-5f6e-4a13-8e83-6d70918c7f9b",
   "metadata": {},
   "outputs": [],
   "source": []
  },
  {
   "cell_type": "code",
   "execution_count": null,
   "id": "43a13888-5944-4fa5-a54d-0164ed4f23c4",
   "metadata": {},
   "outputs": [],
   "source": []
  }
 ],
 "metadata": {
  "kernelspec": {
   "display_name": "Python 3 (ipykernel)",
   "language": "python",
   "name": "python3"
  },
  "language_info": {
   "codemirror_mode": {
    "name": "ipython",
    "version": 3
   },
   "file_extension": ".py",
   "mimetype": "text/x-python",
   "name": "python",
   "nbconvert_exporter": "python",
   "pygments_lexer": "ipython3",
   "version": "3.11.10"
  }
 },
 "nbformat": 4,
 "nbformat_minor": 5
}
